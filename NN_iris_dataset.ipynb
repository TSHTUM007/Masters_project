{
 "cells": [
  {
   "cell_type": "code",
   "execution_count": 1,
   "metadata": {
    "collapsed": false
   },
   "outputs": [
    {
     "name": "stderr",
     "output_type": "stream",
     "text": [
      "/usr/lib/python3/dist-packages/ipykernel/__main__.py:18: FutureWarning: Method .as_matrix will be removed in a future version. Use .values instead.\n"
     ]
    },
    {
     "name": "stdout",
     "output_type": "stream",
     "text": [
      "0.36666666666666664\n"
     ]
    },
    {
     "data": {
      "text/plain": [
       "array([[0.34543943, 0.33499051, 0.31957006],\n",
       "       [0.34543943, 0.33499051, 0.31957006],\n",
       "       [0.34543943, 0.33499051, 0.31957006],\n",
       "       [0.34543943, 0.33499051, 0.31957006],\n",
       "       [0.34543943, 0.33499051, 0.31957006],\n",
       "       [0.34543943, 0.33499051, 0.31957006],\n",
       "       [0.34543943, 0.33499051, 0.31957006],\n",
       "       [0.34543943, 0.33499051, 0.31957006],\n",
       "       [0.34543943, 0.33499051, 0.31957006],\n",
       "       [0.34543943, 0.33499051, 0.31957006],\n",
       "       [0.34543943, 0.33499051, 0.31957006],\n",
       "       [0.34543943, 0.33499051, 0.31957006],\n",
       "       [0.34543943, 0.33499051, 0.31957006],\n",
       "       [0.34543943, 0.33499051, 0.31957006],\n",
       "       [0.34543943, 0.33499051, 0.31957006],\n",
       "       [0.34543943, 0.33499051, 0.31957006],\n",
       "       [0.34543943, 0.33499051, 0.31957006],\n",
       "       [0.34543943, 0.33499051, 0.31957006],\n",
       "       [0.34543943, 0.33499051, 0.31957006],\n",
       "       [0.34543943, 0.33499051, 0.31957006],\n",
       "       [0.34543943, 0.33499051, 0.31957006],\n",
       "       [0.34543943, 0.33499051, 0.31957006],\n",
       "       [0.34543943, 0.33499051, 0.31957006],\n",
       "       [0.34543943, 0.33499051, 0.31957006],\n",
       "       [0.34543943, 0.33499051, 0.31957006],\n",
       "       [0.34543943, 0.33499051, 0.31957006],\n",
       "       [0.34543943, 0.33499051, 0.31957006],\n",
       "       [0.34543943, 0.33499051, 0.31957006],\n",
       "       [0.34543943, 0.33499051, 0.31957006],\n",
       "       [0.34543943, 0.33499051, 0.31957006]])"
      ]
     },
     "execution_count": 1,
     "metadata": {},
     "output_type": "execute_result"
    }
   ],
   "source": [
    "\n",
    "\"\"\"\n",
    "SECTION 1 : Load and setup data for training\n",
    "\"\"\"\n",
    "import pandas as pd\n",
    "from sklearn.model_selection import train_test_split\n",
    "\n",
    "# Load dataset\n",
    "datatrain = pd.read_csv('iris.csv')\n",
    "\n",
    "# Change string value to numeric\n",
    "datatrain.loc[datatrain['species']=='setosa', 'species']=0\n",
    "datatrain.loc[datatrain['species']=='versicolor', 'species']=1\n",
    "datatrain.loc[datatrain['species']=='virginica', 'species']=2\n",
    "datatrain = datatrain.apply(pd.to_numeric)\n",
    "\n",
    "# Change dataframe to array\n",
    "datatrain_array = datatrain.as_matrix()\n",
    "\n",
    "# Split x and y (feature and target)\n",
    "X_train, X_test, y_train, y_test = train_test_split(datatrain_array[:,:4],\n",
    "                                                    datatrain_array[:,4],\n",
    "                                                    test_size=0.2)\n",
    "\n",
    "\"\"\"\n",
    "SECTION 2 : Build and Train Model\n",
    "Multilayer perceptron model, with one hidden layer.\n",
    "input layer : 4 neuron, represents the feature of Iris\n",
    "hidden layer : 10 neuron, activation using ReLU\n",
    "output layer : 3 neuron, represents the class of Iris, Softmax Layer\n",
    "optimizer = stochastic gradient descent with no batch-size\n",
    "loss function = categorical cross entropy\n",
    "learning rate = 0.01\n",
    "epoch = 500\n",
    "\"\"\"\n",
    "\n",
    "from sklearn.neural_network import MLPClassifier\n",
    "\n",
    "mlp = MLPClassifier(hidden_layer_sizes=(2,5),solver='sgd',learning_rate_init=0.01,max_iter=500)\n",
    "\n",
    "# Train the model\n",
    "mlp.fit(X_train, y_train)\n",
    "\n",
    "# Test the model\n",
    "print(mlp.score(X_test,y_test))\n",
    "\n",
    "sl = 5.8\n",
    "sw = 2\n",
    "pl = 1\n",
    "pw = 6\n",
    "data = [sl,sw,pl,pw]\n",
    "#print(mlp.predict(data))\n",
    "\n",
    "pred=mlp.predict_proba(X_test)\n",
    "pred\n"
   ]
  },
  {
   "cell_type": "code",
   "execution_count": 2,
   "metadata": {
    "collapsed": false
   },
   "outputs": [],
   "source": [
    "from sklearn.metrics import (brier_score_loss, precision_score, recall_score,\n",
    "                             f1_score)\n",
    "\n",
    "def reliability_curve(y_true, y_score, bins=10, normalize=False):\n",
    "    \"\"\"Compute reliability curve\n",
    "\n",
    "    Reliability curves allow checking if the predicted probabilities of a\n",
    "    binary classifier are well calibrated. This function returns two arrays\n",
    "    which encode a mapping from predicted probability to empirical probability.\n",
    "    For this, the predicted probabilities are partitioned into equally sized\n",
    "    bins and the mean predicted probability and the mean empirical probabilties\n",
    "    in the bins are computed. For perfectly calibrated predictions, both\n",
    "    quantities whould be approximately equal (for sufficiently many test\n",
    "    samples).\n",
    "\n",
    "    Note: this implementation is restricted to binary classification.\n",
    "\n",
    "    Parameters\n",
    "    ----------\n",
    "\n",
    "    y_true : array, shape = [n_samples]\n",
    "        True binary labels (0 or 1).\n",
    "\n",
    "    y_score : array, shape = [n_samples]\n",
    "        Target scores, can either be probability estimates of the positive\n",
    "        class or confidence values. If normalize is False, y_score must be in\n",
    "        the interval [0, 1]\n",
    "\n",
    "    bins : int, optional, default=10\n",
    "        The number of bins into which the y_scores are partitioned.\n",
    "        Note: n_samples should be considerably larger than bins such that\n",
    "              there is sufficient data in each bin to get a reliable estimate\n",
    "              of the reliability\n",
    "\n",
    "    normalize : bool, optional, default=False\n",
    "        Whether y_score needs to be normalized into the bin [0, 1]. If True,\n",
    "        the smallest value in y_score is mapped onto 0 and the largest one\n",
    "        onto 1.\n",
    "\n",
    "\n",
    "    Returns\n",
    "    -------\n",
    "    y_score_bin_mean : array, shape = [bins]\n",
    "        The mean predicted y_score in the respective bins.\n",
    "\n",
    "    empirical_prob_pos : array, shape = [bins]\n",
    "        The empirical probability (frequency) of the positive class (+1) in the\n",
    "        respective bins.\n",
    "\n",
    "\n",
    "    References\n",
    "    ----------\n",
    "    .. [1] `Predicting Good Probabilities with Supervised Learning\n",
    "            <http://machinelearning.wustl.edu/mlpapers/paper_files/icml2005_Niculescu-MizilC05.pdf>`_\n",
    "\n",
    "    \"\"\"\n",
    "    if normalize:  # Normalize scores into bin [0, 1]\n",
    "        y_score = (y_score - y_score.min()) / (y_score.max() - y_score.min())\n",
    "\n",
    "    bin_width = 1.0 / bins\n",
    "    bin_centers = np.linspace(0, 1.0 - bin_width, bins) + bin_width / 2\n",
    "\n",
    "    y_score_bin_mean = np.empty(bins)\n",
    "    empirical_prob_pos = np.empty(bins)\n",
    "    for i, threshold in enumerate(bin_centers):\n",
    "        # determine all samples where y_score falls into the i-th bin\n",
    "        bin_idx = np.logical_and(threshold - bin_width / 2 < y_score,\n",
    "                                 y_score <= threshold + bin_width / 2)\n",
    "        # Store mean y_score and mean empirical probability of positive class\n",
    "        y_score_bin_mean[i] = y_score[bin_idx].mean()\n",
    "        empirical_prob_pos[i] = y_true[bin_idx].mean()\n",
    "    return y_score_bin_mean, empirical_prob_pos"
   ]
  },
  {
   "cell_type": "code",
   "execution_count": null,
   "metadata": {
    "collapsed": true
   },
   "outputs": [],
   "source": []
  },
  {
   "cell_type": "code",
   "execution_count": 3,
   "metadata": {
    "collapsed": false
   },
   "outputs": [
    {
     "name": "stderr",
     "output_type": "stream",
     "text": [
      "/usr/lib/python3/dist-packages/ipykernel/__main__.py:20: FutureWarning: Method .as_matrix will be removed in a future version. Use .values instead.\n"
     ]
    }
   ],
   "source": [
    "import pandas as pd\n",
    "import numpy as np\n",
    "import pylab as plt\n",
    "#import matplotlib as plt\n",
    "from sklearn.model_selection import train_test_split\n",
    "from sklearn.metrics import (brier_score_loss, precision_score, recall_score,\n",
    "                             f1_score)\n",
    "%matplotlib inline\n",
    "\n",
    "# Load dataset\n",
    "datatrain = pd.read_csv('iris.csv')\n",
    "\n",
    "# Change string value to numeric\n",
    "datatrain.loc[datatrain['species']=='setosa', 'species']=0\n",
    "datatrain.loc[datatrain['species']=='versicolor', 'species']=1\n",
    "datatrain.loc[datatrain['species']=='virginica', 'species']=2\n",
    "datatrain = datatrain.apply(pd.to_numeric)\n",
    "\n",
    "# Change dataframe to array\n",
    "datatrain_array = datatrain.as_matrix()\n",
    "\n",
    "# Split x and y (feature and target)\n",
    "X_train, X_test, Y_train, Y_test = train_test_split(datatrain_array[:,:4],\n",
    "                                                    datatrain_array[:,4],\n",
    "                                                    test_size=0.2)"
   ]
  },
  {
   "cell_type": "code",
   "execution_count": 8,
   "metadata": {
    "collapsed": false
   },
   "outputs": [
    {
     "name": "stderr",
     "output_type": "stream",
     "text": [
      "/usr/lib/python3/dist-packages/sklearn/neural_network/multilayer_perceptron.py:563: ConvergenceWarning: Stochastic Optimizer: Maximum iterations reached and the optimization hasn't converged yet.\n",
      "  % (), ConvergenceWarning)\n",
      "/usr/lib/python3/dist-packages/ipykernel/__main__.py:70: RuntimeWarning: Mean of empty slice.\n",
      "/home/tumisang/.local/lib/python3.5/site-packages/numpy/core/_methods.py:80: RuntimeWarning: invalid value encountered in double_scalars\n",
      "  ret = ret.dtype.type(ret / rcount)\n",
      "/usr/lib/python3/dist-packages/ipykernel/__main__.py:71: RuntimeWarning: Mean of empty slice.\n"
     ]
    }
   ],
   "source": [
    "from sklearn.neural_network import MLPClassifier\n",
    "\n",
    "bins=25\n",
    "\n",
    "reliability_scores = {}\n",
    "y_score = {}\n",
    "clf = MLPClassifier(solver='adam',alpha=1e-5,hidden_layer_sizes=(100,100),random_state=1)\n",
    "\n",
    "clf.fit(X_train,Y_train)\n",
    "pred=clf.predict(X_test)\n",
    "\n",
    "y_score['MLP classifier'] = clf.predict_proba(X_test)[:,1]\n",
    "reliability_scores['MLP classifier']=\\\n",
    "reliability_curve(Y_test , y_score['MLP classifier'], bins=bins , normalize=False)"
   ]
  },
  {
   "cell_type": "code",
   "execution_count": 10,
   "metadata": {
    "collapsed": false
   },
   "outputs": [
    {
     "name": "stdout",
     "output_type": "stream",
     "text": [
      "\tAccuracy: 1.000\n"
     ]
    },
    {
     "ename": "ValueError",
     "evalue": "Target is multiclass but average='binary'. Please choose another average setting.",
     "output_type": "error",
     "traceback": [
      "\u001b[0;31m---------------------------------------------------------------------------\u001b[0m",
      "\u001b[0;31mValueError\u001b[0m                                Traceback (most recent call last)",
      "\u001b[0;32m<ipython-input-10-b8b7af80cf5e>\u001b[0m in \u001b[0;36m<module>\u001b[0;34m()\u001b[0m\n\u001b[1;32m     20\u001b[0m \u001b[0;34m\u001b[0m\u001b[0m\n\u001b[1;32m     21\u001b[0m \u001b[0mprint\u001b[0m\u001b[0;34m(\u001b[0m\u001b[0;34m\"\\tAccuracy: %1.3f\"\u001b[0m\u001b[0;34m%\u001b[0m\u001b[0mclf\u001b[0m\u001b[0;34m.\u001b[0m\u001b[0mscore\u001b[0m\u001b[0;34m(\u001b[0m\u001b[0mX_test\u001b[0m\u001b[0;34m,\u001b[0m \u001b[0mY_test\u001b[0m\u001b[0;34m)\u001b[0m\u001b[0;34m)\u001b[0m\u001b[0;34m\u001b[0m\u001b[0m\n\u001b[0;32m---> 22\u001b[0;31m \u001b[0mprint\u001b[0m\u001b[0;34m(\u001b[0m\u001b[0;34m\"\\tPrecision: %1.3f\"\u001b[0m \u001b[0;34m%\u001b[0m \u001b[0mprecision_score\u001b[0m\u001b[0;34m(\u001b[0m\u001b[0mY_test\u001b[0m\u001b[0;34m,\u001b[0m \u001b[0mpred\u001b[0m\u001b[0;34m)\u001b[0m\u001b[0;34m)\u001b[0m\u001b[0;34m\u001b[0m\u001b[0m\n\u001b[0m\u001b[1;32m     23\u001b[0m \u001b[0mprint\u001b[0m\u001b[0;34m(\u001b[0m\u001b[0;34m\"\\tRecall: %1.3f\"\u001b[0m \u001b[0;34m%\u001b[0m \u001b[0mrecall_score\u001b[0m\u001b[0;34m(\u001b[0m\u001b[0mY_test\u001b[0m\u001b[0;34m,\u001b[0m \u001b[0mpred\u001b[0m\u001b[0;34m)\u001b[0m\u001b[0;34m)\u001b[0m\u001b[0;34m\u001b[0m\u001b[0m\n\u001b[1;32m     24\u001b[0m \u001b[0mprint\u001b[0m\u001b[0;34m(\u001b[0m\u001b[0;34m\"\\tF1: %1.3f\\n\"\u001b[0m \u001b[0;34m%\u001b[0m \u001b[0mf1_score\u001b[0m\u001b[0;34m(\u001b[0m\u001b[0mY_test\u001b[0m\u001b[0;34m,\u001b[0m \u001b[0mpred\u001b[0m\u001b[0;34m)\u001b[0m\u001b[0;34m)\u001b[0m\u001b[0;34m\u001b[0m\u001b[0m\n",
      "\u001b[0;32m/usr/lib/python3/dist-packages/sklearn/metrics/classification.py\u001b[0m in \u001b[0;36mprecision_score\u001b[0;34m(y_true, y_pred, labels, pos_label, average, sample_weight)\u001b[0m\n\u001b[1;32m   1237\u001b[0m                                                  \u001b[0maverage\u001b[0m\u001b[0;34m=\u001b[0m\u001b[0maverage\u001b[0m\u001b[0;34m,\u001b[0m\u001b[0;34m\u001b[0m\u001b[0m\n\u001b[1;32m   1238\u001b[0m                                                  \u001b[0mwarn_for\u001b[0m\u001b[0;34m=\u001b[0m\u001b[0;34m(\u001b[0m\u001b[0;34m'precision'\u001b[0m\u001b[0;34m,\u001b[0m\u001b[0;34m)\u001b[0m\u001b[0;34m,\u001b[0m\u001b[0;34m\u001b[0m\u001b[0m\n\u001b[0;32m-> 1239\u001b[0;31m                                                  sample_weight=sample_weight)\n\u001b[0m\u001b[1;32m   1240\u001b[0m     \u001b[0;32mreturn\u001b[0m \u001b[0mp\u001b[0m\u001b[0;34m\u001b[0m\u001b[0m\n\u001b[1;32m   1241\u001b[0m \u001b[0;34m\u001b[0m\u001b[0m\n",
      "\u001b[0;32m/usr/lib/python3/dist-packages/sklearn/metrics/classification.py\u001b[0m in \u001b[0;36mprecision_recall_fscore_support\u001b[0;34m(y_true, y_pred, beta, labels, pos_label, average, warn_for, sample_weight)\u001b[0m\n\u001b[1;32m   1016\u001b[0m         \u001b[0;32melse\u001b[0m\u001b[0;34m:\u001b[0m\u001b[0;34m\u001b[0m\u001b[0m\n\u001b[1;32m   1017\u001b[0m             raise ValueError(\"Target is %s but average='binary'. Please \"\n\u001b[0;32m-> 1018\u001b[0;31m                              \"choose another average setting.\" % y_type)\n\u001b[0m\u001b[1;32m   1019\u001b[0m     \u001b[0;32melif\u001b[0m \u001b[0mpos_label\u001b[0m \u001b[0;32mnot\u001b[0m \u001b[0;32min\u001b[0m \u001b[0;34m(\u001b[0m\u001b[0;32mNone\u001b[0m\u001b[0;34m,\u001b[0m \u001b[0;36m1\u001b[0m\u001b[0;34m)\u001b[0m\u001b[0;34m:\u001b[0m\u001b[0;34m\u001b[0m\u001b[0m\n\u001b[1;32m   1020\u001b[0m         warnings.warn(\"Note that pos_label (set to %r) is ignored when \"\n",
      "\u001b[0;31mValueError\u001b[0m: Target is multiclass but average='binary'. Please choose another average setting."
     ]
    },
    {
     "data": {
      "image/png": "[encoded data removed]",
      "text/plain": [
       "<Figure size 576x576 with 2 Axes>"
      ]
     },
     "metadata": {},
     "output_type": "display_data"
    }
   ],
   "source": [
    "\n",
    "plt.figure(0, figsize=(8, 8))\n",
    "plt.subplot2grid((3, 1), (0, 0), rowspan=2)\n",
    "plt.plot([0.0, 1.0], [0.0, 1.0], 'k', label=\"Perfect\") \n",
    "for method, (y_score_bin_mean, empirical_prob_pos) in reliability_scores.items():\n",
    "    scores_not_nan = np.logical_not(np.isnan(empirical_prob_pos))\n",
    "    plt.plot(y_score_bin_mean[scores_not_nan],\n",
    "             empirical_prob_pos[scores_not_nan], label=method)\n",
    "plt.ylabel(\"Empirical probability\")\n",
    "plt.legend(loc=0)\n",
    "\n",
    "plt.subplot2grid((3, 1), (2, 0))\n",
    "for method, y_score_ in y_score.items():\n",
    "    y_score_ = (y_score_ - y_score_.min()) / (y_score_.max() - y_score_.min())\n",
    "    plt.hist(y_score_, range=(0, 1), bins=bins, label=method,\n",
    "             histtype=\"step\", lw=2)\n",
    "plt.xlabel(\"Predicted Probability\")\n",
    "plt.ylabel(\"Count\")\n",
    "plt.legend(loc='upper center', ncol=2)\n",
    "\n",
    "print(\"\\tAccuracy: %1.3f\"%clf.score(X_test, Y_test))\n",
    "print(\"\\tPrecision: %1.3f\" % precision_score(Y_test, pred))\n",
    "print(\"\\tRecall: %1.3f\" % recall_score(Y_test, pred))\n",
    "print(\"\\tF1: %1.3f\\n\" % f1_score(Y_test, pred))"
   ]
  },
  {
   "cell_type": "code",
   "execution_count": 18,
   "metadata": {
    "collapsed": false
   },
   "outputs": [],
   "source": [
    "import theano\n",
    "import pymc3 as pm\n",
    "import sklearn\n",
    "\n",
    "\n",
    "def construct_nn(ann_input, ann_output):\n",
    "    n_hidden = 9\n",
    "    \n",
    "    \n",
    "    # Initialize random weights between each layer\n",
    "    init_1 = np.random.randn((X_train.shape[1]), n_hidden).astype(float)\n",
    "    init_2 = np.random.randn(n_hidden, n_hidden).astype(float)\n",
    "    init_3 = np.random.randn(n_hidden, n_hidden).astype(float)\n",
    "    init_4 = np.random.randn(n_hidden, n_hidden).astype(float)\n",
    "    init_out = np.random.randn(n_hidden).astype(float)\n",
    "        \n",
    "    with pm.Model() as neural_network:\n",
    "        # Weights from input to hidden layer\n",
    "        weights_in_1 = pm.Normal('w_in_1', 0, sd=1, \n",
    "                                 shape=(X_train.shape[1], n_hidden), \n",
    "                                 testval=init_1)\n",
    "        \n",
    "        # Weights from 1st to 2nd layer\n",
    "        weights_1_2 = pm.Normal('w_1_2', 0, sd=1, \n",
    "                                shape=(n_hidden, n_hidden), \n",
    "                                testval=init_2)\n",
    "        \n",
    "        # Weights from 2st to 3nd layer\n",
    "        weights_2_3 = pm.Normal('w_2_3', 0, sd=1, \n",
    "                                shape=(n_hidden, n_hidden), \n",
    "                                testval=init_3)\n",
    "                # Weights from 3rd to 4th layer\n",
    "        weights_3_4 = pm.Normal('w_3_4', 0, sd=1, \n",
    "                                shape=(n_hidden, n_hidden), \n",
    "                                testval=init_3)\n",
    "        \n",
    "        # Weights from hidden layer to output\n",
    "        weights_4_out = pm.Normal('w_4_out', 0, sd=1, \n",
    "                                  shape=(n_hidden,), \n",
    "                                  testval=init_out)\n",
    "        \n",
    "        # Build neural-network using tanh activation function\n",
    "        act_1 = pm.math.tanh(pm.math.dot(ann_input, \n",
    "                                         weights_in_1))\n",
    "        act_2 = pm.math.tanh(pm.math.dot(act_1, \n",
    "                                         weights_1_2))\n",
    "        act_3 = pm.math.tanh(pm.math.dot(act_2, \n",
    "                                         weights_2_3))\n",
    "        act_4 = pm.math.tanh(pm.math.dot(act_3, \n",
    "                                         weights_3_4))\n",
    "        act_out = pm.math.sigmoid(pm.math.dot(act_4, \n",
    "                                              weights_4_out))\n",
    "        \n",
    "        # Binary classification -> Bernoulli likelihood\n",
    "        out = pm.Categorical('out', \n",
    "                           act_out,\n",
    "                           observed=ann_output,\n",
    "                           total_size=Y_train.shape[0] # IMPORTANT for minibatches\n",
    "                          )\n",
    "    return neural_network\n",
    "\n",
    "# Trick: Turn inputs and outputs into shared variables. \n",
    "# It's still the same thing, but we can later change the values of the shared variable \n",
    "# (to switch in the test-data later) and pymc3 will just use the new data. \n",
    "# Kind-of like a pointer we can redirect.\n",
    "# For more info, see: http://deeplearning.net/software/theano/library/compile/shared.html\n",
    "ann_input = theano.shared(X_train)\n",
    "ann_output = theano.shared(Y_train)\n",
    "neural_network = construct_nn(ann_input, ann_output)\n"
   ]
  },
  {
   "cell_type": "code",
   "execution_count": 15,
   "metadata": {
    "collapsed": true
   },
   "outputs": [],
   "source": [
    "import pymc3 as pm"
   ]
  },
  {
   "cell_type": "code",
   "execution_count": 16,
   "metadata": {
    "collapsed": true
   },
   "outputs": [],
   "source": [
    "pm.Sof"
   ]
  },
  {
   "cell_type": "code",
   "execution_count": 19,
   "metadata": {
    "collapsed": true
   },
   "outputs": [],
   "source": [
    "from pymc3.theanof import set_tt_rng, MRG_RandomStreams\n",
    "set_tt_rng(MRG_RandomStreams(42))\n",
    "from pymc3 import Normal,Metropolis, sample,find_MAP\n"
   ]
  },
  {
   "cell_type": "code",
   "execution_count": 20,
   "metadata": {
    "collapsed": false
   },
   "outputs": [
    {
     "name": "stderr",
     "output_type": "stream",
     "text": [
      "logp = -536.63, ||grad|| = 2.247: 100%|██████████| 1840/1840 [00:03<00:00, 556.56it/s]\n",
      "Multiprocess sampling (2 chains in 2 jobs)\n",
      "CompoundStep\n",
      ">Metropolis: [w_4_out]\n",
      ">Metropolis: [w_3_4]\n",
      ">Metropolis: [w_2_3]\n",
      ">Metropolis: [w_1_2]\n",
      ">Metropolis: [w_in_1]\n",
      "100%|██████████| 1500/1500 [00:07<00:00, 208.53it/s]\n",
      "The gelman-rubin statistic is larger than 1.4 for some parameters. The sampler did not converge.\n",
      "The estimated number of effective samples is smaller than 200 for some parameters.\n"
     ]
    }
   ],
   "source": [
    "with neural_network:\n",
    "    \n",
    "    start = find_MAP()\n",
    "    step = Metropolis()\n",
    "\n",
    "    trace = sample(1000, step, start)"
   ]
  },
  {
   "cell_type": "code",
   "execution_count": 22,
   "metadata": {
    "collapsed": false
   },
   "outputs": [
    {
     "ename": "ValueError",
     "evalue": "a and p must have same size",
     "output_type": "error",
     "traceback": [
      "\u001b[0;31m---------------------------------------------------------------------------\u001b[0m",
      "\u001b[0;31mValueError\u001b[0m                                Traceback (most recent call last)",
      "\u001b[0;32m<ipython-input-22-077577f441ec>\u001b[0m in \u001b[0;36m<module>\u001b[0;34m()\u001b[0m\n\u001b[1;32m     10\u001b[0m \u001b[0;34m\u001b[0m\u001b[0m\n\u001b[1;32m     11\u001b[0m \u001b[0;32mwith\u001b[0m \u001b[0mneural_network\u001b[0m\u001b[0;34m:\u001b[0m\u001b[0;34m\u001b[0m\u001b[0m\n\u001b[0;32m---> 12\u001b[0;31m     \u001b[0mppc\u001b[0m\u001b[0;34m=\u001b[0m \u001b[0mpm\u001b[0m\u001b[0;34m.\u001b[0m\u001b[0msample_ppc\u001b[0m\u001b[0;34m(\u001b[0m\u001b[0mtrace\u001b[0m\u001b[0;34m,\u001b[0m \u001b[0msamples\u001b[0m\u001b[0;34m=\u001b[0m\u001b[0;36m1000\u001b[0m\u001b[0;34m,\u001b[0m \u001b[0mprogressbar\u001b[0m\u001b[0;34m=\u001b[0m\u001b[0;32mFalse\u001b[0m\u001b[0;34m)\u001b[0m\u001b[0;34m\u001b[0m\u001b[0m\n\u001b[0m\u001b[1;32m     13\u001b[0m \u001b[0;34m\u001b[0m\u001b[0m\n\u001b[1;32m     14\u001b[0m \u001b[0mpred\u001b[0m \u001b[0;34m=\u001b[0m \u001b[0mppc\u001b[0m\u001b[0;34m[\u001b[0m\u001b[0;34m'out'\u001b[0m\u001b[0;34m]\u001b[0m\u001b[0;34m.\u001b[0m\u001b[0mmean\u001b[0m\u001b[0;34m(\u001b[0m\u001b[0maxis\u001b[0m\u001b[0;34m=\u001b[0m\u001b[0;36m0\u001b[0m\u001b[0;34m)\u001b[0m \u001b[0;34m>\u001b[0m \u001b[0;36m0.5\u001b[0m\u001b[0;34m\u001b[0m\u001b[0m\n",
      "\u001b[0;32m/home/tumisang/.local/lib/python3.5/site-packages/pymc3/sampling.py\u001b[0m in \u001b[0;36msample_ppc\u001b[0;34m(trace, samples, model, vars, size, random_seed, progressbar)\u001b[0m\n\u001b[1;32m   1064\u001b[0m             \u001b[0;32mfor\u001b[0m \u001b[0mvar\u001b[0m \u001b[0;32min\u001b[0m \u001b[0mvars\u001b[0m\u001b[0;34m:\u001b[0m\u001b[0;34m\u001b[0m\u001b[0m\n\u001b[1;32m   1065\u001b[0m                 ppc[var.name].append(var.distribution.random(point=param,\n\u001b[0;32m-> 1066\u001b[0;31m                                                              size=size))\n\u001b[0m\u001b[1;32m   1067\u001b[0m \u001b[0;34m\u001b[0m\u001b[0m\n\u001b[1;32m   1068\u001b[0m     \u001b[0;32mexcept\u001b[0m \u001b[0mKeyboardInterrupt\u001b[0m\u001b[0;34m:\u001b[0m\u001b[0;34m\u001b[0m\u001b[0m\n",
      "\u001b[0;32m/home/tumisang/.local/lib/python3.5/site-packages/pymc3/distributions/discrete.py\u001b[0m in \u001b[0;36mrandom\u001b[0;34m(self, point, size, repeat)\u001b[0m\n\u001b[1;32m    720\u001b[0m                                 \u001b[0mbroadcast_shape\u001b[0m\u001b[0;34m=\u001b[0m\u001b[0mp\u001b[0m\u001b[0;34m.\u001b[0m\u001b[0mshape\u001b[0m\u001b[0;34m[\u001b[0m\u001b[0;34m:\u001b[0m\u001b[0;34m-\u001b[0m\u001b[0;36m1\u001b[0m\u001b[0;34m]\u001b[0m \u001b[0;32mor\u001b[0m \u001b[0;34m(\u001b[0m\u001b[0;36m1\u001b[0m\u001b[0;34m,\u001b[0m\u001b[0;34m)\u001b[0m\u001b[0;34m,\u001b[0m\u001b[0;34m\u001b[0m\u001b[0m\n\u001b[1;32m    721\u001b[0m                                 \u001b[0mdist_shape\u001b[0m\u001b[0;34m=\u001b[0m\u001b[0mself\u001b[0m\u001b[0;34m.\u001b[0m\u001b[0mshape\u001b[0m\u001b[0;34m,\u001b[0m\u001b[0;34m\u001b[0m\u001b[0m\n\u001b[0;32m--> 722\u001b[0;31m                                 size=size)\n\u001b[0m\u001b[1;32m    723\u001b[0m \u001b[0;34m\u001b[0m\u001b[0m\n\u001b[1;32m    724\u001b[0m     \u001b[0;32mdef\u001b[0m \u001b[0mlogp\u001b[0m\u001b[0;34m(\u001b[0m\u001b[0mself\u001b[0m\u001b[0;34m,\u001b[0m \u001b[0mvalue\u001b[0m\u001b[0;34m)\u001b[0m\u001b[0;34m:\u001b[0m\u001b[0;34m\u001b[0m\u001b[0m\n",
      "\u001b[0;32m/home/tumisang/.local/lib/python3.5/site-packages/pymc3/distributions/distribution.py\u001b[0m in \u001b[0;36mgenerate_samples\u001b[0;34m(generator, *args, **kwargs)\u001b[0m\n\u001b[1;32m    480\u001b[0m             \u001b[0msamples\u001b[0m \u001b[0;34m=\u001b[0m \u001b[0mgenerator\u001b[0m\u001b[0;34m(\u001b[0m\u001b[0msize\u001b[0m\u001b[0;34m=\u001b[0m\u001b[0msize\u001b[0m\u001b[0;34m,\u001b[0m \u001b[0;34m*\u001b[0m\u001b[0margs\u001b[0m\u001b[0;34m,\u001b[0m \u001b[0;34m**\u001b[0m\u001b[0mkwargs\u001b[0m\u001b[0;34m)\u001b[0m\u001b[0;34m\u001b[0m\u001b[0m\n\u001b[1;32m    481\u001b[0m         \u001b[0;32melse\u001b[0m\u001b[0;34m:\u001b[0m\u001b[0;34m\u001b[0m\u001b[0m\n\u001b[0;32m--> 482\u001b[0;31m             \u001b[0msamples\u001b[0m \u001b[0;34m=\u001b[0m \u001b[0mgenerator\u001b[0m\u001b[0;34m(\u001b[0m\u001b[0msize\u001b[0m\u001b[0;34m=\u001b[0m\u001b[0;36m1\u001b[0m\u001b[0;34m,\u001b[0m \u001b[0;34m*\u001b[0m\u001b[0margs\u001b[0m\u001b[0;34m,\u001b[0m \u001b[0;34m**\u001b[0m\u001b[0mkwargs\u001b[0m\u001b[0;34m)\u001b[0m\u001b[0;34m\u001b[0m\u001b[0m\n\u001b[0m\u001b[1;32m    483\u001b[0m     \u001b[0;32melse\u001b[0m\u001b[0;34m:\u001b[0m\u001b[0;34m\u001b[0m\u001b[0m\n\u001b[1;32m    484\u001b[0m         \u001b[0;32mif\u001b[0m \u001b[0msize\u001b[0m \u001b[0;32mis\u001b[0m \u001b[0;32mnot\u001b[0m \u001b[0;32mNone\u001b[0m\u001b[0;34m:\u001b[0m\u001b[0;34m\u001b[0m\u001b[0m\n",
      "\u001b[0;32m/home/tumisang/.local/lib/python3.5/site-packages/pymc3/distributions/discrete.py\u001b[0m in \u001b[0;36mrandom_choice\u001b[0;34m(k, *args, **kwargs)\u001b[0m\n\u001b[1;32m    713\u001b[0m                 )\n\u001b[1;32m    714\u001b[0m             \u001b[0;32melse\u001b[0m\u001b[0;34m:\u001b[0m\u001b[0;34m\u001b[0m\u001b[0m\n\u001b[0;32m--> 715\u001b[0;31m                 \u001b[0;32mreturn\u001b[0m \u001b[0mnp\u001b[0m\u001b[0;34m.\u001b[0m\u001b[0mrandom\u001b[0m\u001b[0;34m.\u001b[0m\u001b[0mchoice\u001b[0m\u001b[0;34m(\u001b[0m\u001b[0mk\u001b[0m\u001b[0;34m,\u001b[0m \u001b[0;34m*\u001b[0m\u001b[0margs\u001b[0m\u001b[0;34m,\u001b[0m \u001b[0;34m**\u001b[0m\u001b[0mkwargs\u001b[0m\u001b[0;34m)\u001b[0m\u001b[0;34m\u001b[0m\u001b[0m\n\u001b[0m\u001b[1;32m    716\u001b[0m \u001b[0;34m\u001b[0m\u001b[0m\n\u001b[1;32m    717\u001b[0m         \u001b[0mp\u001b[0m\u001b[0;34m,\u001b[0m \u001b[0mk\u001b[0m \u001b[0;34m=\u001b[0m \u001b[0mdraw_values\u001b[0m\u001b[0;34m(\u001b[0m\u001b[0;34m[\u001b[0m\u001b[0mself\u001b[0m\u001b[0;34m.\u001b[0m\u001b[0mp\u001b[0m\u001b[0;34m,\u001b[0m \u001b[0mself\u001b[0m\u001b[0;34m.\u001b[0m\u001b[0mk\u001b[0m\u001b[0;34m]\u001b[0m\u001b[0;34m,\u001b[0m \u001b[0mpoint\u001b[0m\u001b[0;34m=\u001b[0m\u001b[0mpoint\u001b[0m\u001b[0;34m)\u001b[0m\u001b[0;34m\u001b[0m\u001b[0m\n",
      "\u001b[0;32mmtrand.pyx\u001b[0m in \u001b[0;36mmtrand.RandomState.choice\u001b[0;34m()\u001b[0m\n",
      "\u001b[0;31mValueError\u001b[0m: a and p must have same size"
     ]
    }
   ],
   "source": [
    "\n",
    "bins=25\n",
    "\n",
    "reliability_scores = {}\n",
    "y_score = {}\n",
    "\n",
    "ann_input.set_value(X_test)\n",
    "ann_output.set_value(Y_test)\n",
    "\n",
    "\n",
    "with neural_network:\n",
    "    ppc= pm.sample_ppc(trace, samples=1000, progressbar=False)\n",
    "\n",
    "pred = ppc['out'].mean(axis=0) > 0.5\n",
    "pred_binary=pred.astype(int)\n",
    "\n",
    "y_score['BNN'] = ppc['out'].mean(axis=0)\n",
    "reliability_scores['BNN']=\\\n",
    "reliability_curve(Y_test , y_score['BNN'], bins=bins , normalize=False)"
   ]
  },
  {
   "cell_type": "code",
   "execution_count": 23,
   "metadata": {
    "collapsed": false
   },
   "outputs": [
    {
     "name": "stderr",
     "output_type": "stream",
     "text": [
      "No handles with labels found to put in legend.\n"
     ]
    },
    {
     "data": {
      "text/plain": [
       "<matplotlib.legend.Legend at 0x7f8350134f60>"
      ]
     },
     "execution_count": 23,
     "metadata": {},
     "output_type": "execute_result"
    },
    {
     "data": {
      "image/png": "[encoded data removed]",
      "text/plain": [
       "<Figure size 576x576 with 2 Axes>"
      ]
     },
     "metadata": {},
     "output_type": "display_data"
    }
   ],
   "source": [
    "plt.figure(0, figsize=(8, 8))\n",
    "plt.subplot2grid((3, 1), (0, 0), rowspan=2)\n",
    "plt.plot([0.0, 1.0], [0.0, 1.0], 'k', label=\"Perfect\") \n",
    "for method, (y_score_bin_mean, empirical_prob_pos) in reliability_scores.items():\n",
    "    scores_not_nan = np.logical_not(np.isnan(empirical_prob_pos))\n",
    "    plt.plot(y_score_bin_mean[scores_not_nan],\n",
    "             empirical_prob_pos[scores_not_nan], label=method)\n",
    "plt.ylabel(\"Empirical probability\")\n",
    "plt.legend(loc=0)\n",
    "\n",
    "plt.subplot2grid((3, 1), (2, 0))\n",
    "for method, y_score_ in y_score.items():\n",
    "    y_score_ = (y_score_ - y_score_.min()) / (y_score_.max() - y_score_.min())\n",
    "    plt.hist(y_score_, range=(0, 1), bins=bins, label=method,\n",
    "             histtype=\"step\", lw=2)\n",
    "plt.xlabel(\"Predicted Probability\")\n",
    "plt.ylabel(\"Count\")\n",
    "plt.legend(loc='upper center', ncol=2)"
   ]
  },
  {
   "cell_type": "code",
   "execution_count": null,
   "metadata": {
    "collapsed": true
   },
   "outputs": [],
   "source": []
  }
 ],
 "metadata": {
  "kernelspec": {
   "display_name": "Python 3",
   "language": "python",
   "name": "python3"
  },
  "language_info": {
   "codemirror_mode": {
    "name": "ipython",
    "version": 3
   },
   "file_extension": ".py",
   "mimetype": "text/x-python",
   "name": "python",
   "nbconvert_exporter": "python",
   "pygments_lexer": "ipython3",
   "version": "3.5.3"
  }
 },
 "nbformat": 4,
 "nbformat_minor": 2
}
