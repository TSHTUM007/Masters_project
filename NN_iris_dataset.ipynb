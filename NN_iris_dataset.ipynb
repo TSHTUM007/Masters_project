{
 "cells": [
  {
   "cell_type": "code",
   "execution_count": 8,
   "metadata": {
    "collapsed": false
   },
   "outputs": [
    {
     "name": "stderr",
     "output_type": "stream",
     "text": [
      "/usr/lib/python3/dist-packages/ipykernel/__main__.py:18: FutureWarning: Method .as_matrix will be removed in a future version. Use .values instead.\n"
     ]
    },
    {
     "name": "stdout",
     "output_type": "stream",
     "text": [
      "0.9666666666666667\n"
     ]
    },
    {
     "data": {
      "text/plain": [
       "array([[9.89140252e-01, 1.08557833e-02, 3.96491865e-06],\n",
       "       [5.38700239e-04, 9.90906683e-01, 8.55461639e-03],\n",
       "       [9.89140252e-01, 1.08557833e-02, 3.96491865e-06],\n",
       "       [2.72624601e-09, 3.41116667e-02, 9.65888331e-01],\n",
       "       [5.55700379e-05, 9.38066711e-01, 6.18777191e-02],\n",
       "       [4.30826555e-07, 3.20137907e-01, 6.79861662e-01],\n",
       "       [9.89140252e-01, 1.08557833e-02, 3.96491865e-06],\n",
       "       [2.15088831e-05, 8.71600733e-01, 1.28377758e-01],\n",
       "       [9.89140252e-01, 1.08557833e-02, 3.96491865e-06],\n",
       "       [1.29609456e-10, 8.05349747e-03, 9.91946502e-01],\n",
       "       [1.34102129e-03, 9.93998690e-01, 4.66028887e-03],\n",
       "       [4.85778300e-06, 6.84094372e-01, 3.15900770e-01],\n",
       "       [4.88001397e-10, 1.51301723e-02, 9.84869827e-01],\n",
       "       [9.25081796e-05, 9.59427643e-01, 4.04798490e-02],\n",
       "       [3.28502185e-01, 6.70664462e-01, 8.33352449e-04],\n",
       "       [9.89140252e-01, 1.08557833e-02, 3.96491865e-06],\n",
       "       [2.34735614e-09, 3.17946035e-02, 9.68205394e-01],\n",
       "       [9.89140252e-01, 1.08557833e-02, 3.96491865e-06],\n",
       "       [1.31385886e-09, 2.41848908e-02, 9.75815108e-01],\n",
       "       [6.88955810e-07, 3.81477389e-01, 6.18521922e-01],\n",
       "       [5.01400853e-12, 1.80940239e-03, 9.98190598e-01],\n",
       "       [2.80226414e-03, 9.93253989e-01, 3.94374709e-03],\n",
       "       [8.91299898e-04, 9.93689511e-01, 5.41918861e-03],\n",
       "       [1.76135693e-04, 9.76624239e-01, 2.31996250e-02],\n",
       "       [9.89140252e-01, 1.08557833e-02, 3.96491865e-06],\n",
       "       [1.24568677e-03, 9.94015857e-01, 4.73845665e-03],\n",
       "       [1.07984023e-04, 9.64416326e-01, 3.54756900e-02],\n",
       "       [2.12141679e-08, 8.83363540e-02, 9.11663625e-01],\n",
       "       [2.44044566e-05, 8.82807237e-01, 1.17168359e-01],\n",
       "       [9.89140252e-01, 1.08557833e-02, 3.96491865e-06]])"
      ]
     },
     "execution_count": 8,
     "metadata": {},
     "output_type": "execute_result"
    }
   ],
   "source": [
    "\n",
    "\"\"\"\n",
    "SECTION 1 : Load and setup data for training\n",
    "\"\"\"\n",
    "import pandas as pd\n",
    "from sklearn.model_selection import train_test_split\n",
    "\n",
    "# Load dataset\n",
    "datatrain = pd.read_csv('iris.csv')\n",
    "\n",
    "# Change string value to numeric\n",
    "datatrain.loc[datatrain['species']=='setosa', 'species']=0\n",
    "datatrain.loc[datatrain['species']=='versicolor', 'species']=1\n",
    "datatrain.loc[datatrain['species']=='virginica', 'species']=2\n",
    "datatrain = datatrain.apply(pd.to_numeric)\n",
    "\n",
    "# Change dataframe to array\n",
    "datatrain_array = datatrain.as_matrix()\n",
    "\n",
    "# Split x and y (feature and target)\n",
    "X_train, X_test, y_train, y_test = train_test_split(datatrain_array[:,:4],\n",
    "                                                    datatrain_array[:,4],\n",
    "                                                    test_size=0.2)\n",
    "\n",
    "\"\"\"\n",
    "SECTION 2 : Build and Train Model\n",
    "Multilayer perceptron model, with one hidden layer.\n",
    "input layer : 4 neuron, represents the feature of Iris\n",
    "hidden layer : 10 neuron, activation using ReLU\n",
    "output layer : 3 neuron, represents the class of Iris, Softmax Layer\n",
    "optimizer = stochastic gradient descent with no batch-size\n",
    "loss function = categorical cross entropy\n",
    "learning rate = 0.01\n",
    "epoch = 500\n",
    "\"\"\"\n",
    "\n",
    "from sklearn.neural_network import MLPClassifier\n",
    "\n",
    "mlp = MLPClassifier(hidden_layer_sizes=(2,5),solver='sgd',learning_rate_init=0.01,max_iter=500)\n",
    "\n",
    "# Train the model\n",
    "mlp.fit(X_train, y_train)\n",
    "\n",
    "# Test the model\n",
    "print(mlp.score(X_test,y_test))\n",
    "\n",
    "sl = 5.8\n",
    "sw = 2\n",
    "pl = 1\n",
    "pw = 6\n",
    "data = [sl,sw,pl,pw]\n",
    "#print(mlp.predict(data))\n",
    "\n",
    "pred=mlp.predict_proba(X_test)\n",
    "pred\n"
   ]
  },
  {
   "cell_type": "code",
   "execution_count": 1,
   "metadata": {
    "collapsed": false
   },
   "outputs": [],
   "source": [
    "from sklearn.metrics import (brier_score_loss, precision_score, recall_score,\n",
    "                             f1_score)\n",
    "\n",
    "def reliability_curve(y_true, y_score, bins=10, normalize=False):\n",
    "    \"\"\"Compute reliability curve\n",
    "\n",
    "    Reliability curves allow checking if the predicted probabilities of a\n",
    "    binary classifier are well calibrated. This function returns two arrays\n",
    "    which encode a mapping from predicted probability to empirical probability.\n",
    "    For this, the predicted probabilities are partitioned into equally sized\n",
    "    bins and the mean predicted probability and the mean empirical probabilties\n",
    "    in the bins are computed. For perfectly calibrated predictions, both\n",
    "    quantities whould be approximately equal (for sufficiently many test\n",
    "    samples).\n",
    "\n",
    "    Note: this implementation is restricted to binary classification.\n",
    "\n",
    "    Parameters\n",
    "    ----------\n",
    "\n",
    "    y_true : array, shape = [n_samples]\n",
    "        True binary labels (0 or 1).\n",
    "\n",
    "    y_score : array, shape = [n_samples]\n",
    "        Target scores, can either be probability estimates of the positive\n",
    "        class or confidence values. If normalize is False, y_score must be in\n",
    "        the interval [0, 1]\n",
    "\n",
    "    bins : int, optional, default=10\n",
    "        The number of bins into which the y_scores are partitioned.\n",
    "        Note: n_samples should be considerably larger than bins such that\n",
    "              there is sufficient data in each bin to get a reliable estimate\n",
    "              of the reliability\n",
    "\n",
    "    normalize : bool, optional, default=False\n",
    "        Whether y_score needs to be normalized into the bin [0, 1]. If True,\n",
    "        the smallest value in y_score is mapped onto 0 and the largest one\n",
    "        onto 1.\n",
    "\n",
    "\n",
    "    Returns\n",
    "    -------\n",
    "    y_score_bin_mean : array, shape = [bins]\n",
    "        The mean predicted y_score in the respective bins.\n",
    "\n",
    "    empirical_prob_pos : array, shape = [bins]\n",
    "        The empirical probability (frequency) of the positive class (+1) in the\n",
    "        respective bins.\n",
    "\n",
    "\n",
    "    References\n",
    "    ----------\n",
    "    .. [1] `Predicting Good Probabilities with Supervised Learning\n",
    "            <http://machinelearning.wustl.edu/mlpapers/paper_files/icml2005_Niculescu-MizilC05.pdf>`_\n",
    "\n",
    "    \"\"\"\n",
    "    if normalize:  # Normalize scores into bin [0, 1]\n",
    "        y_score = (y_score - y_score.min()) / (y_score.max() - y_score.min())\n",
    "\n",
    "    bin_width = 1.0 / bins\n",
    "    bin_centers = np.linspace(0, 1.0 - bin_width, bins) + bin_width / 2\n",
    "\n",
    "    y_score_bin_mean = np.empty(bins)\n",
    "    empirical_prob_pos = np.empty(bins)\n",
    "    for i, threshold in enumerate(bin_centers):\n",
    "        # determine all samples where y_score falls into the i-th bin\n",
    "        bin_idx = np.logical_and(threshold - bin_width / 2 < y_score,\n",
    "                                 y_score <= threshold + bin_width / 2)\n",
    "        # Store mean y_score and mean empirical probability of positive class\n",
    "        y_score_bin_mean[i] = y_score[bin_idx].mean()\n",
    "        empirical_prob_pos[i] = y_true[bin_idx].mean()\n",
    "    return y_score_bin_mean, empirical_prob_pos"
   ]
  },
  {
   "cell_type": "code",
   "execution_count": null,
   "metadata": {
    "collapsed": true
   },
   "outputs": [],
   "source": []
  },
  {
   "cell_type": "code",
   "execution_count": 9,
   "metadata": {
    "collapsed": false
   },
   "outputs": [
    {
     "name": "stderr",
     "output_type": "stream",
     "text": [
      "/usr/lib/python3/dist-packages/ipykernel/__main__.py:20: FutureWarning: Method .as_matrix will be removed in a future version. Use .values instead.\n"
     ]
    }
   ],
   "source": [
    "import pandas as pd\n",
    "import numpy as np\n",
    "import pylab as plt\n",
    "#import matplotlib as plt\n",
    "from sklearn.model_selection import train_test_split\n",
    "from sklearn.metrics import (brier_score_loss, precision_score, recall_score,\n",
    "                             f1_score)\n",
    "%matplotlib inline\n",
    "\n",
    "# Load dataset\n",
    "datatrain = pd.read_csv('iris.csv')\n",
    "\n",
    "# Change string value to numeric\n",
    "datatrain.loc[datatrain['species']=='setosa', 'species']=0\n",
    "datatrain.loc[datatrain['species']=='versicolor', 'species']=1\n",
    "datatrain.loc[datatrain['species']=='virginica', 'species']=2\n",
    "datatrain = datatrain.apply(pd.to_numeric)\n",
    "\n",
    "# Change dataframe to array\n",
    "datatrain_array = datatrain.as_matrix()\n",
    "\n",
    "# Split x and y (feature and target)\n",
    "X_train, X_test, Y_train, Y_test = train_test_split(datatrain_array[:,:4],\n",
    "                                                    datatrain_array[:,4],\n",
    "                                                    test_size=0.2)"
   ]
  },
  {
   "cell_type": "code",
   "execution_count": 10,
   "metadata": {
    "collapsed": false
   },
   "outputs": [
    {
     "name": "stderr",
     "output_type": "stream",
     "text": [
      "/usr/lib/python3/dist-packages/sklearn/neural_network/multilayer_perceptron.py:563: ConvergenceWarning: Stochastic Optimizer: Maximum iterations reached and the optimization hasn't converged yet.\n",
      "  % (), ConvergenceWarning)\n",
      "/usr/lib/python3/dist-packages/ipykernel/__main__.py:70: RuntimeWarning: Mean of empty slice.\n",
      "/home/tumisang/.local/lib/python3.5/site-packages/numpy/core/_methods.py:80: RuntimeWarning: invalid value encountered in double_scalars\n",
      "  ret = ret.dtype.type(ret / rcount)\n",
      "/usr/lib/python3/dist-packages/ipykernel/__main__.py:71: RuntimeWarning: Mean of empty slice.\n"
     ]
    }
   ],
   "source": [
    "from sklearn.neural_network import MLPClassifier\n",
    "\n",
    "bins=25\n",
    "\n",
    "reliability_scores = {}\n",
    "y_score = {}\n",
    "clf = MLPClassifier(solver='adam',alpha=1e-5,hidden_layer_sizes=(2,5),random_state=1)\n",
    "\n",
    "clf.fit(X_train,Y_train)\n",
    "pred=clf.predict(X_test)\n",
    "\n",
    "y_score['MLP classifier'] = clf.predict_proba(X_test)[:,1]\n",
    "reliability_scores['MLP classifier']=\\\n",
    "reliability_curve(Y_test , y_score['MLP classifier'], bins=bins , normalize=False)"
   ]
  },
  {
   "cell_type": "code",
   "execution_count": 12,
   "metadata": {
    "collapsed": false
   },
   "outputs": [
    {
     "name": "stderr",
     "output_type": "stream",
     "text": [
      "/usr/lib/python3/dist-packages/ipykernel/__main__.py:14: RuntimeWarning: invalid value encountered in true_divide\n",
      "/home/tumisang/.local/lib/python3.5/site-packages/numpy/lib/function_base.py:780: RuntimeWarning: invalid value encountered in greater_equal\n",
      "  keep = (tmp_a >= first_edge)\n",
      "/home/tumisang/.local/lib/python3.5/site-packages/numpy/lib/function_base.py:781: RuntimeWarning: invalid value encountered in less_equal\n",
      "  keep &= (tmp_a <= last_edge)\n"
     ]
    },
    {
     "data": {
      "text/plain": [
       "'print(\"\\tAccuracy: %1.3f\"%clf.score(X_test, Y_test))\\nprint(\"\\tPrecision: %1.3f\" % precision_score(Y_test, pred))\\nprint(\"\\tRecall: %1.3f\" % recall_score(Y_test, pred))\\nprint(\"\\tF1: %1.3f\\n\" % f1_score(Y_test, pred))'"
      ]
     },
     "execution_count": 12,
     "metadata": {},
     "output_type": "execute_result"
    },
    {
     "data": {
      "image/png": "[encoded data removed]",
      "text/plain": [
       "<Figure size 576x576 with 2 Axes>"
      ]
     },
     "metadata": {},
     "output_type": "display_data"
    }
   ],
   "source": [
    "\n",
    "plt.figure(0, figsize=(8, 8))\n",
    "plt.subplot2grid((3, 1), (0, 0), rowspan=2)\n",
    "plt.plot([0.0, 1.0], [0.0, 1.0], 'k', label=\"Perfect\") \n",
    "for method, (y_score_bin_mean, empirical_prob_pos) in reliability_scores.items():\n",
    "    scores_not_nan = np.logical_not(np.isnan(empirical_prob_pos))\n",
    "    plt.plot(y_score_bin_mean[scores_not_nan],\n",
    "             empirical_prob_pos[scores_not_nan], label=method)\n",
    "plt.ylabel(\"Empirical probability\")\n",
    "plt.legend(loc=0)\n",
    "\n",
    "plt.subplot2grid((3, 1), (2, 0))\n",
    "for method, y_score_ in y_score.items():\n",
    "    y_score_ = (y_score_ - y_score_.min()) / (y_score_.max() - y_score_.min())\n",
    "    plt.hist(y_score_, range=(0, 1), bins=bins, label=method,\n",
    "             histtype=\"step\", lw=2)\n",
    "plt.xlabel(\"Predicted Probability\")\n",
    "plt.ylabel(\"Count\")\n",
    "plt.legend(loc='upper center', ncol=2)\n",
    "\n",
    "\n",
    "'''print(\"\\tAccuracy: %1.3f\"%clf.score(X_test, Y_test))\n",
    "print(\"\\tPrecision: %1.3f\" % precision_score(Y_test, pred))\n",
    "print(\"\\tRecall: %1.3f\" % recall_score(Y_test, pred))\n",
    "print(\"\\tF1: %1.3f\\n\" % f1_score(Y_test, pred))'''"
   ]
  },
  {
   "cell_type": "code",
   "execution_count": null,
   "metadata": {
    "collapsed": true
   },
   "outputs": [],
   "source": []
  }
 ],
 "metadata": {
  "kernelspec": {
   "display_name": "Python 3",
   "language": "python",
   "name": "python3"
  },
  "language_info": {
   "codemirror_mode": {
    "name": "ipython",
    "version": 3
   },
   "file_extension": ".py",
   "mimetype": "text/x-python",
   "name": "python",
   "nbconvert_exporter": "python",
   "pygments_lexer": "ipython3",
   "version": "3.5.3"
  }
 },
 "nbformat": 4,
 "nbformat_minor": 2
}
