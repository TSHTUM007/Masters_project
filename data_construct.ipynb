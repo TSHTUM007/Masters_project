{
 "cells": [
  {
   "cell_type": "code",
   "execution_count": 6,
   "metadata": {
    "collapsed": false
   },
   "outputs": [],
   "source": [
    "import numpy as np\n",
    "import pylab as plt"
   ]
  },
  {
   "cell_type": "code",
   "execution_count": 12,
   "metadata": {
    "collapsed": false
   },
   "outputs": [
    {
     "data": {
      "image/png": "[encoded data removed]",
      "text/plain": [
       "<Figure size 432x288 with 1 Axes>"
      ]
     },
     "metadata": {},
     "output_type": "display_data"
    }
   ],
   "source": [
    "def f(x,m,c):\n",
    "    return m*x + c\n",
    "\n",
    "x1=np.linspace(0,0.55,100)\n",
    "y1=f(x1+np.random.normal(0,0.06,100),1,0)\n",
    "\n",
    "x2=np.linspace(0.45,1,100)\n",
    "y2=f(x2+np.random.normal(0,0.06,100),1,0)\n",
    "\n",
    "xx = np.concatenate((x1,x2))\n",
    "yy = np.concatenate((y1,y2))\n",
    "\n",
    "classx_x = []\n",
    "classo_x = []\n",
    "\n",
    "\n",
    "classx_y = []\n",
    "classo_y = []\n",
    "\n",
    "for i in range(len(xx)):\n",
    "    if np.random.uniform(0,1) <= xx[i]:\n",
    "        classx_x.append(xx[i])\n",
    "        classx_y.append(yy[i])\n",
    "    else:\n",
    "        classo_x.append(xx[i])\n",
    "        classo_y.append(yy[i])\n",
    "\n",
    "\n",
    "\n",
    "plt.plot(classx_x,classx_y,'.',label='class0') # class 0\n",
    "plt.plot(classo_x,classo_y,'.',label='class1') # class 1\n",
    "plt.legend()\n",
    "plt.show()\n"
   ]
  },
  {
   "cell_type": "code",
   "execution_count": null,
   "metadata": {
    "collapsed": true
   },
   "outputs": [],
   "source": []
  },
  {
   "cell_type": "code",
   "execution_count": null,
   "metadata": {
    "collapsed": true
   },
   "outputs": [],
   "source": []
  }
 ],
 "metadata": {
  "kernelspec": {
   "display_name": "Python 3",
   "language": "python",
   "name": "python3"
  },
  "language_info": {
   "codemirror_mode": {
    "name": "ipython",
    "version": 3
   },
   "file_extension": ".py",
   "mimetype": "text/x-python",
   "name": "python",
   "nbconvert_exporter": "python",
   "pygments_lexer": "ipython3",
   "version": "3.5.3"
  }
 },
 "nbformat": 4,
 "nbformat_minor": 2
}
