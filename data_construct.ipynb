{
 "cells": [
  {
   "cell_type": "code",
   "execution_count": 1,
   "metadata": {
    "collapsed": false
   },
   "outputs": [],
   "source": [
    "import numpy as np\n",
    "import matplotlib.pyplot as plt\n",
    "from sklearn.preprocessing import scale\n",
    "from sklearn.model_selection import train_test_split\n",
    "from sklearn.preprocessing import StandardScaler\n",
    "%matplotlib inline\n",
    "np.random.seed(0)"
   ]
  },
  {
   "cell_type": "markdown",
   "metadata": {},
   "source": [
    "## Data Construction\n",
    "\n",
    "We simulated a binary dataset consisting of a 1000 data points, the dataset follows a simple linear function $f(x)=mx + c$ where the x is generated randomly from a uniform distribution between $0$ and $1$ and a corresponding y value is calculated with added gaussian noise of mean $\\mu=0$ and standard deviation $\\sigma=0.25$. Since this dataset is simulated probabilistically by construction the X value of each data point is the probability of that point belonging to class 1."
   ]
  },
  {
   "cell_type": "code",
   "execution_count": 2,
   "metadata": {
    "collapsed": false
   },
   "outputs": [
    {
     "data": {
      "text/plain": [
       "\"plt.rcParams.update({'font.size': 18})\\n        \\nplt.figure(figsize=(10,8))\\nplt.scatter(x0,y0,marker='*',s=20,facecolors='none',edgecolors='r',alpha=0.3,label='class0')\\nplt.scatter(x1,y1,marker='o',s=20,facecolors='none',edgecolors='b',alpha=0.2,label='class1') # class 1\\nplt.axvline(0.1,color='blue')\\nplt.axvline(0.5,color='magenta')\\nplt.axvline(0.9,color='red')\\nplt.text(0.1,2.5,s='Pr(x=class0)=0.9 ' + '\\n' + 'Pr(x=class1)=0.1 ' )\\nplt.text(0.5,3,s='Pr(x=class0)=0.5 ' + '\\n' + 'Pr(x=class1)=0.5 ' )\\nplt.text(0.9,1,s='Pr(x=class0)=0.1 ' + '\\n' + 'Pr(x=class1)=0.9 ' )\\nplt.legend()\\nplt.savefig('simulated.png')\\nplt.show()\\n\\n\""
      ]
     },
     "execution_count": 2,
     "metadata": {},
     "output_type": "execute_result"
    }
   ],
   "source": [
    "def f(x):\n",
    "    return 2*x + 1\n",
    "\n",
    "x=np.random.uniform(0,1,10000)\n",
    "\n",
    "\n",
    "x0 = []\n",
    "y0 = []\n",
    "\n",
    "x1 = []\n",
    "y1 = []\n",
    "\n",
    "Y1=np.zeros(len(x))\n",
    "\n",
    "X1=np.zeros((len(x),2))\n",
    "\n",
    "\n",
    "for i in range(len(x)):\n",
    "\n",
    "    \n",
    "    if np.random.random() < x[i]:\n",
    "        x0.append(x[i])\n",
    "        y0.append( f(x[i]) + np.random.normal(0,0.25)  )\n",
    "\n",
    "        \n",
    "    else:\n",
    "        x1.append(x[i])\n",
    "        y1.append( f(x[i]) + np.random.normal(0,0.25) ) \n",
    "    \n",
    "\n",
    "'''plt.rcParams.update({'font.size': 18})\n",
    "        \n",
    "plt.figure(figsize=(10,8))\n",
    "plt.scatter(x0,y0,marker='*',s=20,facecolors='none',edgecolors='r',alpha=0.3,label='class0')\n",
    "plt.scatter(x1,y1,marker='o',s=20,facecolors='none',edgecolors='b',alpha=0.2,label='class1') # class 1\n",
    "plt.axvline(0.1,color='blue')\n",
    "plt.axvline(0.5,color='magenta')\n",
    "plt.axvline(0.9,color='red')\n",
    "plt.text(0.1,2.5,s='Pr(x=class0)=0.9 ' + '\\n' + 'Pr(x=class1)=0.1 ' )\n",
    "plt.text(0.5,3,s='Pr(x=class0)=0.5 ' + '\\n' + 'Pr(x=class1)=0.5 ' )\n",
    "plt.text(0.9,1,s='Pr(x=class0)=0.1 ' + '\\n' + 'Pr(x=class1)=0.9 ' )\n",
    "plt.legend()\n",
    "plt.savefig('simulated.png')\n",
    "plt.show()\n",
    "\n",
    "'''\n"
   ]
  },
  {
   "cell_type": "markdown",
   "metadata": {},
   "source": [
    "## Rescaling, reshaping and splitting the data for use in the neural network in training and testting"
   ]
  },
  {
   "cell_type": "code",
   "execution_count": 3,
   "metadata": {
    "collapsed": false
   },
   "outputs": [
    {
     "data": {
      "text/plain": [
       "((10000, 2), (10000,))"
      ]
     },
     "execution_count": 3,
     "metadata": {},
     "output_type": "execute_result"
    }
   ],
   "source": [
    "Y1=np.zeros(len(x0))\n",
    "Y2=np.ones(len(x1))\n",
    "\n",
    "Y=np.concatenate((Y1, Y2), axis=0)\n",
    "\n",
    "x=np.concatenate((x0, x1), axis=0)\n",
    "y=np.concatenate((y0, y1), axis=0)\n",
    "\n",
    "X=np.stack((x, y), axis=-1)\n",
    "\n",
    "\n",
    "X = np.asarray(X)\n",
    "Y = np.asarray(Y)\n",
    "\n",
    "#X = scale(X)\n",
    "X = X.astype(float)\n",
    "Y = Y.astype(float)\n",
    "\n",
    "X.shape , Y.shape"
   ]
  },
  {
   "cell_type": "code",
   "execution_count": 9,
   "metadata": {
    "collapsed": false
   },
   "outputs": [
    {
     "data": {
      "text/plain": [
       "numpy.float64"
      ]
     },
     "execution_count": 9,
     "metadata": {},
     "output_type": "execute_result"
    }
   ],
   "source": [
    "X_train, X_test, Y_train, Y_test = train_test_split(X, Y, test_size=.25)\n",
    "\n",
    "type(Y_train[0])"
   ]
  },
  {
   "cell_type": "markdown",
   "metadata": {},
   "source": [
    "## Building a neural betwork using a multi-layer perceptron from SKlearn called the MLPClassifier\n",
    "\n",
    "Network architecture :\n",
    "- input layer with 2 neurons\n",
    "- 2 hidden layers with 5 neurons\n",
    "- 1 output layer (softmax)\n",
    "\n",
    "<img src=\"architecture.png\">\n",
    "\n",
    "\n",
    "We look to observe the reliability curve of the MLPClassifier"
   ]
  },
  {
   "cell_type": "code",
   "execution_count": 5,
   "metadata": {
    "collapsed": false
   },
   "outputs": [],
   "source": [
    "from sklearn.neural_network import MLPClassifier\n",
    "from sklearn.metrics import (brier_score_loss, precision_score, recall_score,\n",
    "                             f1_score)\n",
    "%matplotlib inline"
   ]
  },
  {
   "cell_type": "code",
   "execution_count": 22,
   "metadata": {
    "collapsed": true
   },
   "outputs": [],
   "source": [
    "def reliability_curve(y_true, y_score, bins=10, normalize=False):\n",
    "\n",
    "  \n",
    "    if normalize:  # Normalize scores into bin [0, 1]\n",
    "        y_score = (y_score - y_score.min()) / (y_score.max() - y_score.min())\n",
    "\n",
    "    bin_width = 1.0 / bins\n",
    "    bin_centers = np.linspace(0, 1.0 - bin_width, bins) + bin_width / 2\n",
    "\n",
    "    y_score_bin_mean = np.empty(bins)\n",
    "    empirical_prob_pos = np.empty(bins)\n",
    "    for i, threshold in enumerate(bin_centers):\n",
    "        # determine all samples where y_score falls into the i-th bin\n",
    "        bin_idx = np.logical_and(threshold - bin_width / 2 < y_score,\n",
    "                                 y_score <= threshold + bin_width / 2)\n",
    "        # Store mean y_score and mean empirical probability of positive class\n",
    "        y_score_bin_mean[i] = y_score[bin_idx].mean()\n",
    "        empirical_prob_pos[i] = y_true[bin_idx].mean()\n",
    "    return y_score_bin_mean, empirical_prob_pos"
   ]
  },
  {
   "cell_type": "code",
   "execution_count": null,
   "metadata": {
    "collapsed": true
   },
   "outputs": [],
   "source": []
  },
  {
   "cell_type": "code",
   "execution_count": null,
   "metadata": {
    "collapsed": true
   },
   "outputs": [],
   "source": []
  },
  {
   "cell_type": "code",
   "execution_count": 23,
   "metadata": {
    "collapsed": false
   },
   "outputs": [
    {
     "name": "stderr",
     "output_type": "stream",
     "text": [
      "/usr/lib/python3/dist-packages/ipykernel/__main__.py:67: RuntimeWarning: Mean of empty slice.\n",
      "/home/tumisang/.local/lib/python3.5/site-packages/numpy/core/_methods.py:85: RuntimeWarning: invalid value encountered in double_scalars\n",
      "  ret = ret.dtype.type(ret / rcount)\n",
      "/usr/lib/python3/dist-packages/ipykernel/__main__.py:68: RuntimeWarning: Mean of empty slice.\n",
      "/usr/lib/python3/dist-packages/ipykernel/__main__.py:67: RuntimeWarning: Mean of empty slice.\n",
      "/home/tumisang/.local/lib/python3.5/site-packages/numpy/core/_methods.py:85: RuntimeWarning: invalid value encountered in double_scalars\n",
      "  ret = ret.dtype.type(ret / rcount)\n",
      "/usr/lib/python3/dist-packages/ipykernel/__main__.py:68: RuntimeWarning: Mean of empty slice.\n",
      "/usr/lib/python3/dist-packages/ipykernel/__main__.py:67: RuntimeWarning: Mean of empty slice.\n",
      "/home/tumisang/.local/lib/python3.5/site-packages/numpy/core/_methods.py:85: RuntimeWarning: invalid value encountered in double_scalars\n",
      "  ret = ret.dtype.type(ret / rcount)\n",
      "/usr/lib/python3/dist-packages/ipykernel/__main__.py:68: RuntimeWarning: Mean of empty slice.\n",
      "/usr/lib/python3/dist-packages/ipykernel/__main__.py:67: RuntimeWarning: Mean of empty slice.\n",
      "/home/tumisang/.local/lib/python3.5/site-packages/numpy/core/_methods.py:85: RuntimeWarning: invalid value encountered in double_scalars\n",
      "  ret = ret.dtype.type(ret / rcount)\n",
      "/usr/lib/python3/dist-packages/ipykernel/__main__.py:68: RuntimeWarning: Mean of empty slice.\n",
      "/usr/lib/python3/dist-packages/ipykernel/__main__.py:67: RuntimeWarning: Mean of empty slice.\n",
      "/home/tumisang/.local/lib/python3.5/site-packages/numpy/core/_methods.py:85: RuntimeWarning: invalid value encountered in double_scalars\n",
      "  ret = ret.dtype.type(ret / rcount)\n",
      "/usr/lib/python3/dist-packages/ipykernel/__main__.py:68: RuntimeWarning: Mean of empty slice.\n",
      "/usr/lib/python3/dist-packages/ipykernel/__main__.py:67: RuntimeWarning: Mean of empty slice.\n",
      "/home/tumisang/.local/lib/python3.5/site-packages/numpy/core/_methods.py:85: RuntimeWarning: invalid value encountered in double_scalars\n",
      "  ret = ret.dtype.type(ret / rcount)\n",
      "/usr/lib/python3/dist-packages/ipykernel/__main__.py:68: RuntimeWarning: Mean of empty slice.\n",
      "/usr/lib/python3/dist-packages/ipykernel/__main__.py:67: RuntimeWarning: Mean of empty slice.\n",
      "/home/tumisang/.local/lib/python3.5/site-packages/numpy/core/_methods.py:85: RuntimeWarning: invalid value encountered in double_scalars\n",
      "  ret = ret.dtype.type(ret / rcount)\n",
      "/usr/lib/python3/dist-packages/ipykernel/__main__.py:68: RuntimeWarning: Mean of empty slice.\n",
      "/usr/lib/python3/dist-packages/ipykernel/__main__.py:67: RuntimeWarning: Mean of empty slice.\n",
      "/home/tumisang/.local/lib/python3.5/site-packages/numpy/core/_methods.py:85: RuntimeWarning: invalid value encountered in double_scalars\n",
      "  ret = ret.dtype.type(ret / rcount)\n",
      "/usr/lib/python3/dist-packages/ipykernel/__main__.py:68: RuntimeWarning: Mean of empty slice.\n",
      "/usr/lib/python3/dist-packages/ipykernel/__main__.py:67: RuntimeWarning: Mean of empty slice.\n",
      "/home/tumisang/.local/lib/python3.5/site-packages/numpy/core/_methods.py:85: RuntimeWarning: invalid value encountered in double_scalars\n",
      "  ret = ret.dtype.type(ret / rcount)\n",
      "/usr/lib/python3/dist-packages/ipykernel/__main__.py:68: RuntimeWarning: Mean of empty slice.\n",
      "/usr/lib/python3/dist-packages/ipykernel/__main__.py:67: RuntimeWarning: Mean of empty slice.\n",
      "/home/tumisang/.local/lib/python3.5/site-packages/numpy/core/_methods.py:85: RuntimeWarning: invalid value encountered in double_scalars\n",
      "  ret = ret.dtype.type(ret / rcount)\n",
      "/usr/lib/python3/dist-packages/ipykernel/__main__.py:68: RuntimeWarning: Mean of empty slice.\n",
      "/usr/lib/python3/dist-packages/ipykernel/__main__.py:67: RuntimeWarning: Mean of empty slice.\n",
      "/home/tumisang/.local/lib/python3.5/site-packages/numpy/core/_methods.py:85: RuntimeWarning: invalid value encountered in double_scalars\n",
      "  ret = ret.dtype.type(ret / rcount)\n",
      "/usr/lib/python3/dist-packages/ipykernel/__main__.py:68: RuntimeWarning: Mean of empty slice.\n",
      "/usr/lib/python3/dist-packages/ipykernel/__main__.py:67: RuntimeWarning: Mean of empty slice.\n",
      "/home/tumisang/.local/lib/python3.5/site-packages/numpy/core/_methods.py:85: RuntimeWarning: invalid value encountered in double_scalars\n",
      "  ret = ret.dtype.type(ret / rcount)\n",
      "/usr/lib/python3/dist-packages/ipykernel/__main__.py:68: RuntimeWarning: Mean of empty slice.\n",
      "/usr/lib/python3/dist-packages/ipykernel/__main__.py:67: RuntimeWarning: Mean of empty slice.\n",
      "/home/tumisang/.local/lib/python3.5/site-packages/numpy/core/_methods.py:85: RuntimeWarning: invalid value encountered in double_scalars\n",
      "  ret = ret.dtype.type(ret / rcount)\n",
      "/usr/lib/python3/dist-packages/ipykernel/__main__.py:68: RuntimeWarning: Mean of empty slice.\n",
      "/usr/lib/python3/dist-packages/ipykernel/__main__.py:67: RuntimeWarning: Mean of empty slice.\n",
      "/home/tumisang/.local/lib/python3.5/site-packages/numpy/core/_methods.py:85: RuntimeWarning: invalid value encountered in double_scalars\n",
      "  ret = ret.dtype.type(ret / rcount)\n",
      "/usr/lib/python3/dist-packages/ipykernel/__main__.py:68: RuntimeWarning: Mean of empty slice.\n",
      "/usr/lib/python3/dist-packages/ipykernel/__main__.py:67: RuntimeWarning: Mean of empty slice.\n",
      "/home/tumisang/.local/lib/python3.5/site-packages/numpy/core/_methods.py:85: RuntimeWarning: invalid value encountered in double_scalars\n",
      "  ret = ret.dtype.type(ret / rcount)\n",
      "/usr/lib/python3/dist-packages/ipykernel/__main__.py:68: RuntimeWarning: Mean of empty slice.\n",
      "/usr/lib/python3/dist-packages/ipykernel/__main__.py:67: RuntimeWarning: Mean of empty slice.\n",
      "/home/tumisang/.local/lib/python3.5/site-packages/numpy/core/_methods.py:85: RuntimeWarning: invalid value encountered in double_scalars\n",
      "  ret = ret.dtype.type(ret / rcount)\n",
      "/usr/lib/python3/dist-packages/ipykernel/__main__.py:68: RuntimeWarning: Mean of empty slice.\n",
      "/usr/lib/python3/dist-packages/ipykernel/__main__.py:67: RuntimeWarning: Mean of empty slice.\n",
      "/home/tumisang/.local/lib/python3.5/site-packages/numpy/core/_methods.py:85: RuntimeWarning: invalid value encountered in double_scalars\n",
      "  ret = ret.dtype.type(ret / rcount)\n",
      "/usr/lib/python3/dist-packages/ipykernel/__main__.py:68: RuntimeWarning: Mean of empty slice.\n",
      "/usr/lib/python3/dist-packages/ipykernel/__main__.py:67: RuntimeWarning: Mean of empty slice.\n",
      "/home/tumisang/.local/lib/python3.5/site-packages/numpy/core/_methods.py:85: RuntimeWarning: invalid value encountered in double_scalars\n",
      "  ret = ret.dtype.type(ret / rcount)\n",
      "/usr/lib/python3/dist-packages/ipykernel/__main__.py:68: RuntimeWarning: Mean of empty slice.\n",
      "/usr/lib/python3/dist-packages/ipykernel/__main__.py:67: RuntimeWarning: Mean of empty slice.\n",
      "/home/tumisang/.local/lib/python3.5/site-packages/numpy/core/_methods.py:85: RuntimeWarning: invalid value encountered in double_scalars\n",
      "  ret = ret.dtype.type(ret / rcount)\n",
      "/usr/lib/python3/dist-packages/ipykernel/__main__.py:68: RuntimeWarning: Mean of empty slice.\n",
      "/usr/lib/python3/dist-packages/ipykernel/__main__.py:67: RuntimeWarning: Mean of empty slice.\n",
      "/home/tumisang/.local/lib/python3.5/site-packages/numpy/core/_methods.py:85: RuntimeWarning: invalid value encountered in double_scalars\n",
      "  ret = ret.dtype.type(ret / rcount)\n",
      "/usr/lib/python3/dist-packages/ipykernel/__main__.py:68: RuntimeWarning: Mean of empty slice.\n",
      "/usr/lib/python3/dist-packages/ipykernel/__main__.py:67: RuntimeWarning: Mean of empty slice.\n",
      "/home/tumisang/.local/lib/python3.5/site-packages/numpy/core/_methods.py:85: RuntimeWarning: invalid value encountered in double_scalars\n",
      "  ret = ret.dtype.type(ret / rcount)\n",
      "/usr/lib/python3/dist-packages/ipykernel/__main__.py:68: RuntimeWarning: Mean of empty slice.\n",
      "/usr/lib/python3/dist-packages/ipykernel/__main__.py:67: RuntimeWarning: Mean of empty slice.\n",
      "/home/tumisang/.local/lib/python3.5/site-packages/numpy/core/_methods.py:85: RuntimeWarning: invalid value encountered in double_scalars\n",
      "  ret = ret.dtype.type(ret / rcount)\n",
      "/usr/lib/python3/dist-packages/ipykernel/__main__.py:68: RuntimeWarning: Mean of empty slice.\n",
      "/usr/lib/python3/dist-packages/ipykernel/__main__.py:67: RuntimeWarning: Mean of empty slice.\n",
      "/home/tumisang/.local/lib/python3.5/site-packages/numpy/core/_methods.py:85: RuntimeWarning: invalid value encountered in double_scalars\n",
      "  ret = ret.dtype.type(ret / rcount)\n",
      "/usr/lib/python3/dist-packages/ipykernel/__main__.py:68: RuntimeWarning: Mean of empty slice.\n",
      "/usr/lib/python3/dist-packages/ipykernel/__main__.py:67: RuntimeWarning: Mean of empty slice.\n",
      "/home/tumisang/.local/lib/python3.5/site-packages/numpy/core/_methods.py:85: RuntimeWarning: invalid value encountered in double_scalars\n",
      "  ret = ret.dtype.type(ret / rcount)\n",
      "/usr/lib/python3/dist-packages/ipykernel/__main__.py:68: RuntimeWarning: Mean of empty slice.\n",
      "/usr/lib/python3/dist-packages/ipykernel/__main__.py:67: RuntimeWarning: Mean of empty slice.\n",
      "/home/tumisang/.local/lib/python3.5/site-packages/numpy/core/_methods.py:85: RuntimeWarning: invalid value encountered in double_scalars\n",
      "  ret = ret.dtype.type(ret / rcount)\n",
      "/usr/lib/python3/dist-packages/ipykernel/__main__.py:68: RuntimeWarning: Mean of empty slice.\n"
     ]
    }
   ],
   "source": [
    "reliability_scores = {}\n",
    "y_score = {}\n",
    "predicted_lists=[]\n",
    "prednan=[]\n",
    "for i in range(25):\n",
    "    X_train, X_test, Y_train, Y_test = train_test_split(X, Y, test_size=.25, shuffle=True)\n",
    "    scaler = StandardScaler()\n",
    "    scaler.fit(X_train)\n",
    "\n",
    "\n",
    "    X_train = scaler.transform(X_train)\n",
    "    X_test = scaler.transform(X_test)\n",
    "    clf = MLPClassifier(solver='sgd',alpha=1e-5,hidden_layer_sizes=(5,5),random_state=1)\n",
    "\n",
    "    clf.fit(X_train,Y_train)\n",
    "    \n",
    "    \n",
    "    y_score['MLP classifier'] = clf.predict_proba(X_test)[:,1]\n",
    "    reliability_scores['MLP classifier']=\\\n",
    "    reliability_curve(Y_test , y_score['MLP classifier'], bins=25 , normalize=False)\n",
    "    \n",
    "    \n",
    "    arr=reliability_scores['MLP classifier'][0]\n",
    "    scores_not_nan = np.logical_not(np.isnan(arr))\n",
    "    predic_notnan=arr[scores_not_nan]\n",
    "    prednan.append(arr)\n",
    "    predicted_lists.append(predic_notnan)\n",
    "\n",
    "\n"
   ]
  },
  {
   "cell_type": "code",
   "execution_count": 94,
   "metadata": {
    "collapsed": false
   },
   "outputs": [
    {
     "name": "stderr",
     "output_type": "stream",
     "text": [
      "/home/tumisang/.local/lib/python3.5/site-packages/numpy/core/_methods.py:140: RuntimeWarning: Degrees of freedom <= 0 for slice\n",
      "  keepdims=keepdims)\n",
      "/home/tumisang/.local/lib/python3.5/site-packages/numpy/core/_methods.py:110: RuntimeWarning: invalid value encountered in true_divide\n",
      "  arrmean, rcount, out=arrmean, casting='unsafe', subok=False)\n",
      "/home/tumisang/.local/lib/python3.5/site-packages/numpy/core/_methods.py:132: RuntimeWarning: invalid value encountered in double_scalars\n",
      "  ret = ret.dtype.type(ret / rcount)\n"
     ]
    }
   ],
   "source": [
    "import pandas as pd\n",
    "stderrors=[]\n",
    "for i in range(len(prednan)):\n",
    "    place=[]\n",
    "    place=[t[i] for t in prednan]\n",
    "    DF=pd.DataFrame({'vals':place})\n",
    "\n",
    "    DF.dropna(inplace=True)\n",
    "   \n",
    "    stderrors.append(np.std(DF['vals'].values))\n",
    "YERR=np.asarray(stderrors)"
   ]
  },
  {
   "cell_type": "code",
   "execution_count": 95,
   "metadata": {
    "collapsed": false
   },
   "outputs": [
    {
     "data": {
      "text/plain": [
       "array([       nan,        nan, 0.00220125, 0.00067039, 0.00089235,\n",
       "       0.00082339, 0.0009847 , 0.00122236, 0.00090857, 0.00106452,\n",
       "       0.00092005, 0.00138203, 0.00116445, 0.00143317, 0.00105832,\n",
       "       0.00131783, 0.00100562, 0.00088537, 0.00089853, 0.00123377,\n",
       "       0.00092965, 0.00073487, 0.0006715 , 0.00113574, 0.00085148])"
      ]
     },
     "execution_count": 95,
     "metadata": {},
     "output_type": "execute_result"
    }
   ],
   "source": [
    "YERR"
   ]
  },
  {
   "cell_type": "code",
   "execution_count": 65,
   "metadata": {
    "collapsed": false
   },
   "outputs": [
    {
     "data": {
      "text/plain": [
       "'import pandas as pd\\nstderrors=[]\\nfor i in range(len(prednan)):\\n    place=[]\\n    place=[t[i] for t in prednan]\\n    std_hold=np.std(place)\\n    stderrors.append(std_hold)\\n'"
      ]
     },
     "execution_count": 65,
     "metadata": {},
     "output_type": "execute_result"
    }
   ],
   "source": [
    "'''import pandas as pd\n",
    "stderrors=[]\n",
    "for i in range(len(prednan)):\n",
    "    place=[]\n",
    "    place=[t[i] for t in prednan]\n",
    "    std_hold=np.std(place)\n",
    "    stderrors.append(std_hold)\n",
    "'''\n"
   ]
  },
  {
   "cell_type": "code",
   "execution_count": 91,
   "metadata": {
    "collapsed": false
   },
   "outputs": [
    {
     "name": "stderr",
     "output_type": "stream",
     "text": [
      "/usr/lib/python3/dist-packages/ipykernel/__main__.py:67: RuntimeWarning: Mean of empty slice.\n",
      "/home/tumisang/.local/lib/python3.5/site-packages/numpy/core/_methods.py:85: RuntimeWarning: invalid value encountered in double_scalars\n",
      "  ret = ret.dtype.type(ret / rcount)\n",
      "/usr/lib/python3/dist-packages/ipykernel/__main__.py:68: RuntimeWarning: Mean of empty slice.\n"
     ]
    }
   ],
   "source": [
    "X_train, X_test, Y_train, Y_test = train_test_split(X, Y, test_size=.25)\n",
    "scaler = StandardScaler()\n",
    "scaler.fit(X_train)\n",
    "\n",
    "\n",
    "X_train = scaler.transform(X_train)\n",
    "X_test = scaler.transform(X_test)\n",
    "\n",
    "bins=25\n",
    "\n",
    "reliability_scores = {}\n",
    "y_score = {}\n",
    "clf = MLPClassifier(solver='sgd',alpha=1e-5,hidden_layer_sizes=(5,5),random_state=1)\n",
    "\n",
    "\n",
    "clf.fit(X_train,Y_train)\n",
    "pred=clf.predict(X_test)\n",
    "\n",
    "\n",
    "y_score['MLP classifier'] = clf.predict_proba(X_test)[:,1]\n",
    "reliability_scores['MLP classifier']=\\\n",
    "reliability_curve(Y_test , y_score['MLP classifier'], bins=bins , normalize=False)\n",
    "\n"
   ]
  },
  {
   "cell_type": "code",
   "execution_count": null,
   "metadata": {
    "collapsed": false
   },
   "outputs": [],
   "source": []
  },
  {
   "cell_type": "code",
   "execution_count": 92,
   "metadata": {
    "collapsed": false
   },
   "outputs": [
    {
     "name": "stdout",
     "output_type": "stream",
     "text": [
      "\tAccuracy: 0.744\n",
      "\tPrecision: 0.747\n",
      "\tRecall: 0.735\n",
      "\tF1: 0.741\n",
      "\n"
     ]
    },
    {
     "data": {
      "image/png": "[encoded data removed]",
      "text/plain": [
       "<Figure size 576x576 with 2 Axes>"
      ]
     },
     "metadata": {},
     "output_type": "display_data"
    }
   ],
   "source": [
    "plt.figure(0, figsize=(8, 8))\n",
    "plt.rcParams.update({'font.size': 18})\n",
    "plt.subplot2grid((3, 1), (0, 0), rowspan=2)\n",
    "plt.plot([0.0, 1.0], [0.0, 1.0] ,'--', label=\"Perfect\")\n",
    "for method, (y_score_bin_mean, empirical_prob_pos) in reliability_scores.items():\n",
    "    scores_not_nan = np.logical_not(np.isnan(empirical_prob_pos))\n",
    "    \n",
    "    plt.errorbar(y_score_bin_mean[scores_not_nan],\n",
    "             empirical_prob_pos[scores_not_nan], yerr=YERR[scores_not_nan] ,fmt='o',label=method)\n",
    "plt.ylabel(\"Empirical probability\")\n",
    "plt.legend(loc=0)\n",
    "\n",
    "plt.subplot2grid((3, 1), (2, 0))\n",
    "for method, y_score_ in y_score.items():\n",
    "    \n",
    "    y_score_ = (y_score_ - y_score_.min()) / (y_score_.max() - y_score_.min())\n",
    "    plt.hist(y_score_, range=(0, 1), bins=bins ,label=method,\n",
    "             histtype=\"step\", lw=2)\n",
    "plt.xlabel(\"Predicted Probability\")\n",
    "plt.ylabel(\"Count\")\n",
    "plt.savefig('reliabilityMLP.png')\n",
    "plt.legend(loc='upper center', ncol=2)\n",
    "\n",
    "\n",
    "print(\"\\tAccuracy: %1.3f\"%clf.score(X_test, Y_test))\n",
    "print(\"\\tPrecision: %1.3f\" % precision_score(Y_test, pred))\n",
    "print(\"\\tRecall: %1.3f\" % recall_score(Y_test, pred))\n",
    "print(\"\\tF1: %1.3f\\n\" % f1_score(Y_test, pred))"
   ]
  },
  {
   "cell_type": "code",
   "execution_count": 96,
   "metadata": {
    "collapsed": false
   },
   "outputs": [
    {
     "name": "stdout",
     "output_type": "stream",
     "text": [
      "\tAccuracy: 0.744\n",
      "\tPrecision: 0.747\n",
      "\tRecall: 0.735\n",
      "\tF1: 0.741\n",
      "\n"
     ]
    },
    {
     "data": {
      "image/png": "[encoded data removed]",
      "text/plain": [
       "<Figure size 576x576 with 2 Axes>"
      ]
     },
     "metadata": {},
     "output_type": "display_data"
    }
   ],
   "source": [
    "plt.figure(0, figsize=(8, 8))\n",
    "plt.rcParams.update({'font.size': 18})\n",
    "plt.subplot2grid((3, 1), (0, 0), rowspan=2)\n",
    "plt.plot([0.0, 1.0], [0.0, 1.0],'k', label=\"Perfect\")\n",
    "for method, (y_score_bin_mean, empirical_prob_pos) in reliability_scores.items():\n",
    "    scores_not_nan = np.logical_not(np.isnan(empirical_prob_pos))\n",
    "    plt.plot(y_score_bin_mean[scores_not_nan],\n",
    "             empirical_prob_pos[scores_not_nan], label=method)\n",
    "plt.ylabel(\"Empirical probability\")\n",
    "plt.legend(loc=0)\n",
    "\n",
    "plt.subplot2grid((3, 1), (2, 0))\n",
    "for method, y_score_ in y_score.items():\n",
    "    y_score_ = (y_score_ - y_score_.min()) / (y_score_.max() - y_score_.min())\n",
    "    plt.hist(y_score_, range=(0, 1), bins=bins, label=method,\n",
    "             histtype=\"step\", lw=2)\n",
    "plt.xlabel(\"Predicted Probability\")\n",
    "plt.ylabel(\"Count\")\n",
    "plt.savefig('reliabilityMLP.png')\n",
    "plt.legend(loc='upper center', ncol=2)\n",
    "\n",
    "\n",
    "print(\"\\tAccuracy: %1.3f\"%clf.score(X_test, Y_test))\n",
    "print(\"\\tPrecision: %1.3f\" % precision_score(Y_test, pred))\n",
    "print(\"\\tRecall: %1.3f\" % recall_score(Y_test, pred))\n",
    "print(\"\\tF1: %1.3f\\n\" % f1_score(Y_test, pred))"
   ]
  },
  {
   "cell_type": "markdown",
   "metadata": {
    "collapsed": true
   },
   "source": [
    "## Now we make the plot where we compare our x vaules which by construction is our real probabilities of any point belonging to class 1 to the predicted probabilities\n"
   ]
  },
  {
   "cell_type": "code",
   "execution_count": 12,
   "metadata": {
    "collapsed": false
   },
   "outputs": [],
   "source": [
    "Pred_prob=clf.predict_proba(X_test)\n",
    "\n",
    "X_true=scaler.inverse_transform(X_test, copy=None)"
   ]
  },
  {
   "cell_type": "code",
   "execution_count": 13,
   "metadata": {
    "collapsed": false
   },
   "outputs": [
    {
     "data": {
      "image/png": "[encoded data removed]",
      "text/plain": [
       "<Figure size 576x576 with 1 Axes>"
      ]
     },
     "metadata": {},
     "output_type": "display_data"
    }
   ],
   "source": [
    "plt.figure(figsize=(8,8))\n",
    "plt.rcParams.update({'font.size': 18})\n",
    "plt.scatter(X_true[:,0],Pred_prob[:,0])\n",
    "plt.ylabel('MLP_Prediction')\n",
    "plt.xlabel('True probabilities')\n",
    "plt.grid()\n",
    "plt.savefig('predbMLP.png')\n",
    "plt.show()"
   ]
  },
  {
   "cell_type": "code",
   "execution_count": 14,
   "metadata": {
    "collapsed": false
   },
   "outputs": [
    {
     "data": {
      "image/png": "[encoded data removed]",
      "text/plain": [
       "<Figure size 432x288 with 1 Axes>"
      ]
     },
     "metadata": {},
     "output_type": "display_data"
    }
   ],
   "source": [
    "plt.plot(clf.loss_curve_)\n",
    "plt.show()"
   ]
  },
  {
   "cell_type": "code",
   "execution_count": 15,
   "metadata": {
    "collapsed": false
   },
   "outputs": [
    {
     "data": {
      "text/plain": [
       "array([[960, 290],\n",
       "       [325, 925]])"
      ]
     },
     "execution_count": 15,
     "metadata": {},
     "output_type": "execute_result"
    }
   ],
   "source": [
    "from sklearn.metrics import confusion_matrix\n",
    "confusion_matrix(Y_test,pred)"
   ]
  },
  {
   "cell_type": "code",
   "execution_count": 16,
   "metadata": {
    "collapsed": false
   },
   "outputs": [
    {
     "data": {
      "text/plain": [
       "array([[960, 290],\n",
       "       [325, 925]])"
      ]
     },
     "execution_count": 16,
     "metadata": {},
     "output_type": "execute_result"
    }
   ],
   "source": [
    "confusion_matrix(Y_test,pred)"
   ]
  }
 ],
 "metadata": {
  "kernelspec": {
   "display_name": "Python 3",
   "language": "python",
   "name": "python3"
  },
  "language_info": {
   "codemirror_mode": {
    "name": "ipython",
    "version": 3
   },
   "file_extension": ".py",
   "mimetype": "text/x-python",
   "name": "python",
   "nbconvert_exporter": "python",
   "pygments_lexer": "ipython3",
   "version": "3.5.3"
  }
 },
 "nbformat": 4,
 "nbformat_minor": 2
}
