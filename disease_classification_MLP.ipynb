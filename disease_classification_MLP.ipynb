{
 "cells": [
  {
   "cell_type": "code",
   "execution_count": 1,
   "metadata": {
    "collapsed": true
   },
   "outputs": [],
   "source": [
    "import pandas as pd\n",
    "import numpy as np\n",
    "import pylab as plt\n",
    "#import matplotlib as plt\n",
    "from sklearn.model_selection import train_test_split\n",
    "from sklearn.metrics import (brier_score_loss, precision_score, recall_score,\n",
    "                             f1_score)\n",
    "from sklearn.preprocessing import StandardScaler\n",
    "%matplotlib inline"
   ]
  },
  {
   "cell_type": "markdown",
   "metadata": {},
   "source": [
    "## pima-indians-diabetes Dataset"
   ]
  },
  {
   "cell_type": "code",
   "execution_count": 2,
   "metadata": {
    "collapsed": false
   },
   "outputs": [
    {
     "data": {
      "text/html": [
       "<div>\n",
       "<style scoped>\n",
       "    .dataframe tbody tr th:only-of-type {\n",
       "        vertical-align: middle;\n",
       "    }\n",
       "\n",
       "    .dataframe tbody tr th {\n",
       "        vertical-align: top;\n",
       "    }\n",
       "\n",
       "    .dataframe thead th {\n",
       "        text-align: right;\n",
       "    }\n",
       "</style>\n",
       "<table border=\"1\" class=\"dataframe\">\n",
       "  <thead>\n",
       "    <tr style=\"text-align: right;\">\n",
       "      <th></th>\n",
       "      <th>preg</th>\n",
       "      <th>plas</th>\n",
       "      <th>pres</th>\n",
       "      <th>skin</th>\n",
       "      <th>test</th>\n",
       "      <th>mass</th>\n",
       "      <th>pedi</th>\n",
       "      <th>age</th>\n",
       "      <th>class</th>\n",
       "    </tr>\n",
       "  </thead>\n",
       "  <tbody>\n",
       "    <tr>\n",
       "      <th>0</th>\n",
       "      <td>6</td>\n",
       "      <td>148</td>\n",
       "      <td>72</td>\n",
       "      <td>35</td>\n",
       "      <td>0</td>\n",
       "      <td>33.6</td>\n",
       "      <td>0.627</td>\n",
       "      <td>50</td>\n",
       "      <td>1</td>\n",
       "    </tr>\n",
       "    <tr>\n",
       "      <th>1</th>\n",
       "      <td>1</td>\n",
       "      <td>85</td>\n",
       "      <td>66</td>\n",
       "      <td>29</td>\n",
       "      <td>0</td>\n",
       "      <td>26.6</td>\n",
       "      <td>0.351</td>\n",
       "      <td>31</td>\n",
       "      <td>0</td>\n",
       "    </tr>\n",
       "    <tr>\n",
       "      <th>2</th>\n",
       "      <td>8</td>\n",
       "      <td>183</td>\n",
       "      <td>64</td>\n",
       "      <td>0</td>\n",
       "      <td>0</td>\n",
       "      <td>23.3</td>\n",
       "      <td>0.672</td>\n",
       "      <td>32</td>\n",
       "      <td>1</td>\n",
       "    </tr>\n",
       "    <tr>\n",
       "      <th>3</th>\n",
       "      <td>1</td>\n",
       "      <td>89</td>\n",
       "      <td>66</td>\n",
       "      <td>23</td>\n",
       "      <td>94</td>\n",
       "      <td>28.1</td>\n",
       "      <td>0.167</td>\n",
       "      <td>21</td>\n",
       "      <td>0</td>\n",
       "    </tr>\n",
       "    <tr>\n",
       "      <th>4</th>\n",
       "      <td>0</td>\n",
       "      <td>137</td>\n",
       "      <td>40</td>\n",
       "      <td>35</td>\n",
       "      <td>168</td>\n",
       "      <td>43.1</td>\n",
       "      <td>2.288</td>\n",
       "      <td>33</td>\n",
       "      <td>1</td>\n",
       "    </tr>\n",
       "  </tbody>\n",
       "</table>\n",
       "</div>"
      ],
      "text/plain": [
       "   preg  plas  pres  skin  test  mass   pedi  age  class\n",
       "0     6   148    72    35     0  33.6  0.627   50      1\n",
       "1     1    85    66    29     0  26.6  0.351   31      0\n",
       "2     8   183    64     0     0  23.3  0.672   32      1\n",
       "3     1    89    66    23    94  28.1  0.167   21      0\n",
       "4     0   137    40    35   168  43.1  2.288   33      1"
      ]
     },
     "execution_count": 2,
     "metadata": {},
     "output_type": "execute_result"
    }
   ],
   "source": [
    "url = \"https://raw.githubusercontent.com/jbrownlee/Datasets/master/pima-indians-diabetes.data.csv\"\n",
    "names = ['preg', 'plas', 'pres', 'skin', 'test', 'mass', 'pedi', 'age', 'class']\n",
    "dataframe = pd.read_csv(url, names=names)\n",
    "array = dataframe.values\n",
    "X = array[:,0:8]\n",
    "Y = array[:,8]\n",
    "\n",
    "\n",
    "dataframe.head()"
   ]
  },
  {
   "cell_type": "code",
   "execution_count": 3,
   "metadata": {
    "collapsed": false
   },
   "outputs": [],
   "source": [
    "X_train, X_test, Y_train, Y_test = train_test_split(X, Y, test_size=.25)\n",
    "\n",
    "scaler = StandardScaler()\n",
    "scaler.fit(X_train)\n",
    "\n",
    "\n",
    "X_train = scaler.transform(X_train)\n",
    "X_test = scaler.transform(X_test)"
   ]
  },
  {
   "cell_type": "code",
   "execution_count": 4,
   "metadata": {
    "collapsed": true
   },
   "outputs": [],
   "source": [
    "from sklearn.metrics import (brier_score_loss, precision_score, recall_score,\n",
    "                             f1_score)\n",
    "\n",
    "def reliability_curve(y_true, y_score, bins=10, normalize=False):\n",
    "    \"\"\"Compute reliability curve\n",
    "\n",
    "    Reliability curves allow checking if the predicted probabilities of a\n",
    "    binary classifier are well calibrated. This function returns two arrays\n",
    "    which encode a mapping from predicted probability to empirical probability.\n",
    "    For this, the predicted probabilities are partitioned into equally sized\n",
    "    bins and the mean predicted probability and the mean empirical probabilties\n",
    "    in the bins are computed. For perfectly calibrated predictions, both\n",
    "    quantities whould be approximately equal (for sufficiently many test\n",
    "    samples).\n",
    "\n",
    "    Note: this implementation is restricted to binary classification.\n",
    "\n",
    "    Parameters\n",
    "    ----------\n",
    "\n",
    "    y_true : array, shape = [n_samples]\n",
    "        True binary labels (0 or 1).\n",
    "\n",
    "    y_score : array, shape = [n_samples]\n",
    "        Target scores, can either be probability estimates of the positive\n",
    "        class or confidence values. If normalize is False, y_score must be in\n",
    "        the interval [0, 1]\n",
    "\n",
    "    bins : int, optional, default=10\n",
    "        The number of bins into which the y_scores are partitioned.\n",
    "        Note: n_samples should be considerably larger than bins such that\n",
    "              there is sufficient data in each bin to get a reliable estimate\n",
    "              of the reliability\n",
    "\n",
    "    normalize : bool, optional, default=False\n",
    "        Whether y_score needs to be normalized into the bin [0, 1]. If True,\n",
    "        the smallest value in y_score is mapped onto 0 and the largest one\n",
    "        onto 1.\n",
    "\n",
    "\n",
    "    Returns\n",
    "    -------\n",
    "    y_score_bin_mean : array, shape = [bins]\n",
    "        The mean predicted y_score in the respective bins.\n",
    "\n",
    "    empirical_prob_pos : array, shape = [bins]\n",
    "        The empirical probability (frequency) of the positive class (+1) in the\n",
    "        respective bins.\n",
    "\n",
    "\n",
    "    References\n",
    "    ----------\n",
    "    .. [1] `Predicting Good Probabilities with Supervised Learning\n",
    "            <http://machinelearning.wustl.edu/mlpapers/paper_files/icml2005_Niculescu-MizilC05.pdf>`_\n",
    "\n",
    "    \"\"\"\n",
    "    if normalize:  # Normalize scores into bin [0, 1]\n",
    "        y_score = (y_score - y_score.min()) / (y_score.max() - y_score.min())\n",
    "\n",
    "    bin_width = 1.0 / bins\n",
    "    bin_centers = np.linspace(0, 1.0 - bin_width, bins) + bin_width / 2\n",
    "\n",
    "    y_score_bin_mean = np.empty(bins)\n",
    "    empirical_prob_pos = np.empty(bins)\n",
    "    for i, threshold in enumerate(bin_centers):\n",
    "        # determine all samples where y_score falls into the i-th bin\n",
    "        bin_idx = np.logical_and(threshold - bin_width / 2 < y_score,\n",
    "                                 y_score <= threshold + bin_width / 2)\n",
    "        # Store mean y_score and mean empirical probability of positive class\n",
    "        y_score_bin_mean[i] = y_score[bin_idx].mean()\n",
    "        empirical_prob_pos[i] = y_true[bin_idx].mean()\n",
    "    return y_score_bin_mean, empirical_prob_pos"
   ]
  },
  {
   "cell_type": "code",
   "execution_count": 10,
   "metadata": {
    "collapsed": false
   },
   "outputs": [
    {
     "name": "stderr",
     "output_type": "stream",
     "text": [
      "/usr/lib/python3/dist-packages/sklearn/neural_network/multilayer_perceptron.py:563: ConvergenceWarning: Stochastic Optimizer: Maximum iterations reached and the optimization hasn't converged yet.\n",
      "  % (), ConvergenceWarning)\n",
      "/usr/lib/python3/dist-packages/ipykernel/__main__.py:70: RuntimeWarning: Mean of empty slice.\n",
      "/home/tumisang/.local/lib/python3.5/site-packages/numpy/core/_methods.py:80: RuntimeWarning: invalid value encountered in double_scalars\n",
      "  ret = ret.dtype.type(ret / rcount)\n",
      "/usr/lib/python3/dist-packages/ipykernel/__main__.py:71: RuntimeWarning: Mean of empty slice.\n"
     ]
    }
   ],
   "source": [
    "from sklearn.neural_network import MLPClassifier\n",
    "\n",
    "bins=25\n",
    "\n",
    "reliability_scores = {}\n",
    "y_score = {}\n",
    "clf = MLPClassifier(solver='adam',alpha=1e-5,hidden_layer_sizes=(10,10,10),random_state=1)\n",
    "\n",
    "clf.fit(X_train,Y_train)\n",
    "pred=clf.predict(X_test)\n",
    "\n",
    "y_score['MLP classifier'] = clf.predict_proba(X_test)[:,1]\n",
    "reliability_scores['MLP classifier']=\\\n",
    "reliability_curve(Y_test , y_score['MLP classifier'], bins=bins , normalize=False)\n"
   ]
  },
  {
   "cell_type": "code",
   "execution_count": 11,
   "metadata": {
    "collapsed": false
   },
   "outputs": [
    {
     "name": "stdout",
     "output_type": "stream",
     "text": [
      "\tAccuracy: 0.771\n",
      "\tPrecision: 0.816\n",
      "\tRecall: 0.533\n",
      "\tF1: 0.645\n",
      "\n"
     ]
    },
    {
     "data": {
      "image/png": "[encoded data removed]",
      "text/plain": [
       "<Figure size 576x576 with 2 Axes>"
      ]
     },
     "metadata": {},
     "output_type": "display_data"
    }
   ],
   "source": [
    "\n",
    "plt.figure(0, figsize=(8, 8))\n",
    "plt.subplot2grid((3, 1), (0, 0), rowspan=2)\n",
    "plt.plot([0.0, 1.0], [0.0, 1.0], 'k', label=\"Perfect\") \n",
    "for method, (y_score_bin_mean, empirical_prob_pos) in reliability_scores.items():\n",
    "    scores_not_nan = np.logical_not(np.isnan(empirical_prob_pos))\n",
    "    plt.plot(y_score_bin_mean[scores_not_nan],\n",
    "             empirical_prob_pos[scores_not_nan], label=method)\n",
    "plt.ylabel(\"Empirical probability\")\n",
    "plt.legend(loc=0)\n",
    "\n",
    "plt.subplot2grid((3, 1), (2, 0))\n",
    "for method, y_score_ in y_score.items():\n",
    "    y_score_ = (y_score_ - y_score_.min()) / (y_score_.max() - y_score_.min())\n",
    "    plt.hist(y_score_, range=(0, 1), bins=bins, label=method,\n",
    "             histtype=\"step\", lw=2)\n",
    "plt.xlabel(\"Predicted Probability\")\n",
    "plt.ylabel(\"Count\")\n",
    "plt.legend(loc='upper center', ncol=2)\n",
    "\n",
    "\n",
    "print(\"\\tAccuracy: %1.3f\"%clf.score(X_test, Y_test))\n",
    "print(\"\\tPrecision: %1.3f\" % precision_score(Y_test, pred))\n",
    "print(\"\\tRecall: %1.3f\" % recall_score(Y_test, pred))\n",
    "print(\"\\tF1: %1.3f\\n\" % f1_score(Y_test, pred))"
   ]
  },
  {
   "cell_type": "code",
   "execution_count": null,
   "metadata": {
    "collapsed": true
   },
   "outputs": [],
   "source": []
  },
  {
   "cell_type": "code",
   "execution_count": null,
   "metadata": {
    "collapsed": false
   },
   "outputs": [],
   "source": []
  },
  {
   "cell_type": "code",
   "execution_count": null,
   "metadata": {
    "collapsed": true
   },
   "outputs": [],
   "source": []
  }
 ],
 "metadata": {
  "kernelspec": {
   "display_name": "Python 3",
   "language": "python",
   "name": "python3"
  },
  "language_info": {
   "codemirror_mode": {
    "name": "ipython",
    "version": 3
   },
   "file_extension": ".py",
   "mimetype": "text/x-python",
   "name": "python",
   "nbconvert_exporter": "python",
   "pygments_lexer": "ipython3",
   "version": "3.5.3"
  }
 },
 "nbformat": 4,
 "nbformat_minor": 2
}
