{
 "cells": [
  {
   "cell_type": "code",
   "execution_count": 1,
   "metadata": {
    "collapsed": true
   },
   "outputs": [],
   "source": [
    "import numpy as np\n",
    "import matplotlib.pyplot as plt\n",
    "import pandas as pd\n",
    "import csv\n",
    "\n",
    "import seaborn as sns\n",
    "sns.set_style('white')\n",
    "sns.set_context('talk')\n",
    "\n",
    "import pymc3 as pm\n",
    "from pymc3.theanof import set_tt_rng, MRG_RandomStreams \n",
    "set_tt_rng(MRG_RandomStreams(42))\n",
    "\n",
    "from pymc3 import Normal,Metropolis, sample,find_MAP   \n",
    "import theano.tensor as T\n",
    "import theano\n",
    "import lasagne\n",
    "\n",
    "from scipy.stats import mode, chisquare\n",
    "\n",
    "import sklearn\n",
    "from sklearn.metrics import confusion_matrix, accuracy_score\n",
    "from sklearn.preprocessing import StandardScaler\n",
    "from sklearn.model_selection import train_test_split"
   ]
  },
  {
   "cell_type": "code",
   "execution_count": 2,
   "metadata": {
    "collapsed": true
   },
   "outputs": [],
   "source": [
    "# read flash.dat to a list of lists\n",
    "datContent = [i.strip().split() for i in open(\"DES_full_wavelets.dat\").readlines()]\n",
    "datContent1 = [i.strip().split() for i in open(\"key.txt\").readlines()]\n",
    "columns=datContent[0]\n",
    "columns1=datContent1[0]"
   ]
  },
  {
   "cell_type": "code",
   "execution_count": 3,
   "metadata": {
    "collapsed": false,
    "scrolled": true
   },
   "outputs": [
    {
     "data": {
      "text/html": [
       "<div>\n",
       "<style scoped>\n",
       "    .dataframe tbody tr th:only-of-type {\n",
       "        vertical-align: middle;\n",
       "    }\n",
       "\n",
       "    .dataframe tbody tr th {\n",
       "        vertical-align: top;\n",
       "    }\n",
       "\n",
       "    .dataframe thead th {\n",
       "        text-align: right;\n",
       "    }\n",
       "</style>\n",
       "<table border=\"1\" class=\"dataframe\">\n",
       "  <thead>\n",
       "    <tr style=\"text-align: right;\">\n",
       "      <th></th>\n",
       "      <th>C0</th>\n",
       "      <th>C1</th>\n",
       "      <th>C2</th>\n",
       "      <th>C3</th>\n",
       "      <th>C4</th>\n",
       "      <th>C5</th>\n",
       "      <th>C6</th>\n",
       "      <th>C7</th>\n",
       "      <th>C8</th>\n",
       "      <th>C9</th>\n",
       "      <th>...</th>\n",
       "      <th>C12</th>\n",
       "      <th>C13</th>\n",
       "      <th>C14</th>\n",
       "      <th>C15</th>\n",
       "      <th>C16</th>\n",
       "      <th>C17</th>\n",
       "      <th>C18</th>\n",
       "      <th>C19</th>\n",
       "      <th>C20</th>\n",
       "      <th>z</th>\n",
       "    </tr>\n",
       "  </thead>\n",
       "  <tbody>\n",
       "    <tr>\n",
       "      <th>0</th>\n",
       "      <td>-25.00037477444413</td>\n",
       "      <td>306.79211490489143</td>\n",
       "      <td>356.8997649727597</td>\n",
       "      <td>36.56806414373808</td>\n",
       "      <td>81.96294271832443</td>\n",
       "      <td>62.84881350054351</td>\n",
       "      <td>-149.50953399302256</td>\n",
       "      <td>49.388635007835</td>\n",
       "      <td>46.425898986402416</td>\n",
       "      <td>9.202334885218706</td>\n",
       "      <td>...</td>\n",
       "      <td>-33.037657156773214</td>\n",
       "      <td>-2.972694976441513</td>\n",
       "      <td>14.275091023477701</td>\n",
       "      <td>43.27783546040833</td>\n",
       "      <td>36.14978526004475</td>\n",
       "      <td>42.272794165931174</td>\n",
       "      <td>34.722632574076236</td>\n",
       "      <td>-1.0936417697512764</td>\n",
       "      <td>-35.21439165696788</td>\n",
       "      <td>0.3502</td>\n",
       "    </tr>\n",
       "    <tr>\n",
       "      <th>1</th>\n",
       "      <td>-238.79206891687346</td>\n",
       "      <td>155.3919979441455</td>\n",
       "      <td>211.36807494174155</td>\n",
       "      <td>-3.746101978293055</td>\n",
       "      <td>-93.19830815652585</td>\n",
       "      <td>42.334705719188065</td>\n",
       "      <td>-0.4838348067168141</td>\n",
       "      <td>130.21422038778377</td>\n",
       "      <td>-38.95153007406436</td>\n",
       "      <td>-21.025637471790123</td>\n",
       "      <td>...</td>\n",
       "      <td>73.82622017894873</td>\n",
       "      <td>65.57448246149349</td>\n",
       "      <td>-12.685975243515733</td>\n",
       "      <td>-6.071823311914481</td>\n",
       "      <td>8.494442815914777</td>\n",
       "      <td>-14.946762084511736</td>\n",
       "      <td>21.59773335882574</td>\n",
       "      <td>-11.420969334214146</td>\n",
       "      <td>1.7374948480963388</td>\n",
       "      <td>0.9609</td>\n",
       "    </tr>\n",
       "    <tr>\n",
       "      <th>2</th>\n",
       "      <td>-542.521162149438</td>\n",
       "      <td>70.30591950576184</td>\n",
       "      <td>83.55855291754986</td>\n",
       "      <td>-62.43710158940596</td>\n",
       "      <td>-4.303015725470706</td>\n",
       "      <td>13.865165481969552</td>\n",
       "      <td>-10.760797295484963</td>\n",
       "      <td>27.974491688346184</td>\n",
       "      <td>-2.373651075888283</td>\n",
       "      <td>17.846619786960538</td>\n",
       "      <td>...</td>\n",
       "      <td>6.706933251134956</td>\n",
       "      <td>11.655275670677133</td>\n",
       "      <td>5.120015670925272</td>\n",
       "      <td>-12.657090739176272</td>\n",
       "      <td>-3.9683953727566843</td>\n",
       "      <td>-4.338903653156308</td>\n",
       "      <td>16.50174347535103</td>\n",
       "      <td>10.526471774932752</td>\n",
       "      <td>-8.92679194932048</td>\n",
       "      <td>0.5628</td>\n",
       "    </tr>\n",
       "    <tr>\n",
       "      <th>3</th>\n",
       "      <td>-209.04457680773876</td>\n",
       "      <td>-121.1521579037945</td>\n",
       "      <td>59.6778141143199</td>\n",
       "      <td>22.282682854904284</td>\n",
       "      <td>-134.8065942940524</td>\n",
       "      <td>-18.231881130250255</td>\n",
       "      <td>-10.396626106209759</td>\n",
       "      <td>31.89273041660975</td>\n",
       "      <td>24.781259200927778</td>\n",
       "      <td>-25.653730436879304</td>\n",
       "      <td>...</td>\n",
       "      <td>10.092535994029824</td>\n",
       "      <td>2.115467645344072</td>\n",
       "      <td>69.00457558938463</td>\n",
       "      <td>28.33006929131822</td>\n",
       "      <td>-22.327955845622725</td>\n",
       "      <td>-14.938633312832923</td>\n",
       "      <td>6.709835775927774</td>\n",
       "      <td>-9.719449198277808</td>\n",
       "      <td>5.925270987983696</td>\n",
       "      <td>0.4747</td>\n",
       "    </tr>\n",
       "    <tr>\n",
       "      <th>4</th>\n",
       "      <td>-448.45014262661607</td>\n",
       "      <td>130.38673932244154</td>\n",
       "      <td>-59.986039979245646</td>\n",
       "      <td>60.42144611544627</td>\n",
       "      <td>-38.94952538238488</td>\n",
       "      <td>-29.11613660545993</td>\n",
       "      <td>39.45988907037251</td>\n",
       "      <td>-27.08410046683938</td>\n",
       "      <td>-23.877828822879913</td>\n",
       "      <td>17.637273025995523</td>\n",
       "      <td>...</td>\n",
       "      <td>33.72356414146945</td>\n",
       "      <td>-36.80300636482759</td>\n",
       "      <td>-3.5666978828339744</td>\n",
       "      <td>3.297053642332119</td>\n",
       "      <td>17.83264974893807</td>\n",
       "      <td>-41.45221511454384</td>\n",
       "      <td>-8.489533409627624</td>\n",
       "      <td>14.044875152417134</td>\n",
       "      <td>8.466453914603711</td>\n",
       "      <td>0.8882</td>\n",
       "    </tr>\n",
       "  </tbody>\n",
       "</table>\n",
       "<p>5 rows × 22 columns</p>\n",
       "</div>"
      ],
      "text/plain": [
       "                    C0                  C1                   C2  \\\n",
       "0   -25.00037477444413  306.79211490489143    356.8997649727597   \n",
       "1  -238.79206891687346   155.3919979441455   211.36807494174155   \n",
       "2    -542.521162149438   70.30591950576184    83.55855291754986   \n",
       "3  -209.04457680773876  -121.1521579037945     59.6778141143199   \n",
       "4  -448.45014262661607  130.38673932244154  -59.986039979245646   \n",
       "\n",
       "                   C3                  C4                   C5  \\\n",
       "0   36.56806414373808   81.96294271832443    62.84881350054351   \n",
       "1  -3.746101978293055  -93.19830815652585   42.334705719188065   \n",
       "2  -62.43710158940596  -4.303015725470706   13.865165481969552   \n",
       "3  22.282682854904284  -134.8065942940524  -18.231881130250255   \n",
       "4   60.42144611544627  -38.94952538238488   -29.11613660545993   \n",
       "\n",
       "                    C6                  C7                   C8  \\\n",
       "0  -149.50953399302256     49.388635007835   46.425898986402416   \n",
       "1  -0.4838348067168141  130.21422038778377   -38.95153007406436   \n",
       "2  -10.760797295484963  27.974491688346184   -2.373651075888283   \n",
       "3  -10.396626106209759   31.89273041660975   24.781259200927778   \n",
       "4    39.45988907037251  -27.08410046683938  -23.877828822879913   \n",
       "\n",
       "                    C9   ...                    C12                 C13  \\\n",
       "0    9.202334885218706   ...    -33.037657156773214  -2.972694976441513   \n",
       "1  -21.025637471790123   ...      73.82622017894873   65.57448246149349   \n",
       "2   17.846619786960538   ...      6.706933251134956  11.655275670677133   \n",
       "3  -25.653730436879304   ...     10.092535994029824   2.115467645344072   \n",
       "4   17.637273025995523   ...      33.72356414146945  -36.80300636482759   \n",
       "\n",
       "                   C14                  C15                  C16  \\\n",
       "0   14.275091023477701    43.27783546040833    36.14978526004475   \n",
       "1  -12.685975243515733   -6.071823311914481    8.494442815914777   \n",
       "2    5.120015670925272  -12.657090739176272  -3.9683953727566843   \n",
       "3    69.00457558938463    28.33006929131822  -22.327955845622725   \n",
       "4  -3.5666978828339744    3.297053642332119    17.83264974893807   \n",
       "\n",
       "                   C17                 C18                  C19  \\\n",
       "0   42.272794165931174  34.722632574076236  -1.0936417697512764   \n",
       "1  -14.946762084511736   21.59773335882574  -11.420969334214146   \n",
       "2   -4.338903653156308   16.50174347535103   10.526471774932752   \n",
       "3  -14.938633312832923   6.709835775927774   -9.719449198277808   \n",
       "4   -41.45221511454384  -8.489533409627624   14.044875152417134   \n",
       "\n",
       "                  C20       z  \n",
       "0  -35.21439165696788  0.3502  \n",
       "1  1.7374948480963388  0.9609  \n",
       "2   -8.92679194932048  0.5628  \n",
       "3   5.925270987983696  0.4747  \n",
       "4   8.466453914603711  0.8882  \n",
       "\n",
       "[5 rows x 22 columns]"
      ]
     },
     "execution_count": 3,
     "metadata": {},
     "output_type": "execute_result"
    }
   ],
   "source": [
    "features = pd.DataFrame(datContent[1:], columns=columns)\n",
    "features=features.drop(['Object'], axis=1)\n",
    "features.head()"
   ]
  },
  {
   "cell_type": "code",
   "execution_count": 4,
   "metadata": {
    "collapsed": false
   },
   "outputs": [
    {
     "data": {
      "text/html": [
       "<div>\n",
       "<style scoped>\n",
       "    .dataframe tbody tr th:only-of-type {\n",
       "        vertical-align: middle;\n",
       "    }\n",
       "\n",
       "    .dataframe tbody tr th {\n",
       "        vertical-align: top;\n",
       "    }\n",
       "\n",
       "    .dataframe thead th {\n",
       "        text-align: right;\n",
       "    }\n",
       "</style>\n",
       "<table border=\"1\" class=\"dataframe\">\n",
       "  <thead>\n",
       "    <tr style=\"text-align: right;\">\n",
       "      <th></th>\n",
       "      <th>Type</th>\n",
       "    </tr>\n",
       "  </thead>\n",
       "  <tbody>\n",
       "    <tr>\n",
       "      <th>0</th>\n",
       "      <td>0</td>\n",
       "    </tr>\n",
       "    <tr>\n",
       "      <th>1</th>\n",
       "      <td>0</td>\n",
       "    </tr>\n",
       "    <tr>\n",
       "      <th>2</th>\n",
       "      <td>0</td>\n",
       "    </tr>\n",
       "    <tr>\n",
       "      <th>3</th>\n",
       "      <td>0</td>\n",
       "    </tr>\n",
       "    <tr>\n",
       "      <th>4</th>\n",
       "      <td>0</td>\n",
       "    </tr>\n",
       "  </tbody>\n",
       "</table>\n",
       "</div>"
      ],
      "text/plain": [
       "  Type\n",
       "0    0\n",
       "1    0\n",
       "2    0\n",
       "3    0\n",
       "4    0"
      ]
     },
     "execution_count": 4,
     "metadata": {},
     "output_type": "execute_result"
    }
   ],
   "source": [
    "labels = pd.DataFrame(datContent1[1:], columns=columns1)\n",
    "labels.loc[labels['Type']=='3', 'Type']=0\n",
    "labels.loc[labels['Type']=='2', 'Type']=0\n",
    "labels.loc[labels['Type']=='1', 'Type']=1\n",
    "labels=labels.drop(['Object'], axis=1)\n",
    "labels.head()"
   ]
  },
  {
   "cell_type": "code",
   "execution_count": 5,
   "metadata": {
    "collapsed": false
   },
   "outputs": [],
   "source": [
    "X=features.values\n",
    "Y=labels.values.ravel()\n",
    "X = X.astype(float)\n",
    "Y = Y.astype(float)\n",
    "X_train, X_test, Y_train, Y_test = train_test_split(X, Y, test_size=.25)"
   ]
  },
  {
   "cell_type": "code",
   "execution_count": 6,
   "metadata": {
    "collapsed": false
   },
   "outputs": [],
   "source": [
    "scaler = StandardScaler()\n",
    "scaler.fit(X_train)\n",
    "\n",
    "\n",
    "X_train = scaler.transform(X_train)\n",
    "X_test = scaler.transform(X_test)"
   ]
  },
  {
   "cell_type": "code",
   "execution_count": 7,
   "metadata": {
    "collapsed": true
   },
   "outputs": [],
   "source": [
    "from sklearn.neural_network import MLPClassifier\n",
    "from sklearn.metrics import (brier_score_loss, precision_score, recall_score,\n",
    "                             f1_score)\n",
    "%matplotlib inline\n",
    "\n",
    "def reliability_curve(y_true, y_score, bins=10, normalize=False):\n",
    "\n",
    "  \n",
    "    if normalize:  # Normalize scores into bin [0, 1]\n",
    "        y_score = (y_score - y_score.min()) / (y_score.max() - y_score.min())\n",
    "\n",
    "    bin_width = 1.0 / bins\n",
    "    bin_centers = np.linspace(0, 1.0 - bin_width, bins) + bin_width / 2\n",
    "\n",
    "    y_score_bin_mean = np.empty(bins)\n",
    "    empirical_prob_pos = np.empty(bins)\n",
    "    for i, threshold in enumerate(bin_centers):\n",
    "        # determine all samples where y_score falls into the i-th bin\n",
    "        bin_idx = np.logical_and(threshold - bin_width / 2 < y_score,\n",
    "                                 y_score <= threshold + bin_width / 2)\n",
    "        # Store mean y_score and mean empirical probability of positive class\n",
    "        y_score_bin_mean[i] = y_score[bin_idx].mean()\n",
    "        empirical_prob_pos[i] = y_true[bin_idx].mean()\n",
    "    return y_score_bin_mean, empirical_prob_pos"
   ]
  },
  {
   "cell_type": "code",
   "execution_count": 9,
   "metadata": {
    "collapsed": false
   },
   "outputs": [
    {
     "name": "stderr",
     "output_type": "stream",
     "text": [
      "/home/tumisang/.local/lib/python3.5/site-packages/sklearn/neural_network/multilayer_perceptron.py:562: ConvergenceWarning: Stochastic Optimizer: Maximum iterations (200) reached and the optimization hasn't converged yet.\n",
      "  % self.max_iter, ConvergenceWarning)\n"
     ]
    }
   ],
   "source": [
    "bins=25\n",
    "\n",
    "reliability_scores = {}\n",
    "y_score = {}\n",
    "clf = MLPClassifier(solver='sgd',alpha=1e-5,hidden_layer_sizes=(22,22),random_state=1)\n",
    "\n",
    "\n",
    "clf.fit(X_train,Y_train)\n",
    "pred=clf.predict(X_test)\n",
    "\n",
    "\n",
    "y_score['MLP classifier'] = clf.predict_proba(X_test)[:,1]\n",
    "reliability_scores['MLP classifier']=\\\n",
    "reliability_curve(Y_test , y_score['MLP classifier'], bins=bins , normalize=False)"
   ]
  },
  {
   "cell_type": "code",
   "execution_count": 31,
   "metadata": {
    "collapsed": false
   },
   "outputs": [
    {
     "name": "stdout",
     "output_type": "stream",
     "text": [
      "\tAccuracy: 0.936\n",
      "\tPrecision: 0.876\n",
      "\tRecall: 0.851\n",
      "\tF1: 0.863\n",
      "\n"
     ]
    },
    {
     "data": {
      "image/png": "[encoded data removed]",
      "text/plain": [
       "<Figure size 576x576 with 2 Axes>"
      ]
     },
     "metadata": {},
     "output_type": "display_data"
    }
   ],
   "source": [
    "plt.figure(0, figsize=(8, 8))\n",
    "plt.rcParams.update({'font.size': 18})\n",
    "plt.subplot2grid((3, 1), (0, 0), rowspan=2)\n",
    "plt.plot([0.0, 1.0], [0.0, 1.0] ,'--', label=\"Perfect\")\n",
    "for method, (y_score_bin_mean, empirical_prob_pos) in reliability_scores.items():\n",
    "    scores_not_nan = np.logical_not(np.isnan(empirical_prob_pos))\n",
    "    \n",
    "    plt.errorbar(y_score_bin_mean[scores_not_nan],\n",
    "             empirical_prob_pos[scores_not_nan] ,fmt='s-',label=method)\n",
    "plt.ylabel(\"Empirical probability\")\n",
    "plt.legend(loc=0)\n",
    "\n",
    "plt.subplot2grid((3, 1), (2, 0))\n",
    "for method, y_score_ in y_score.items():\n",
    "    \n",
    "    y_score_ = (y_score_ - y_score_.min()) / (y_score_.max() - y_score_.min())\n",
    "    plt.hist(y_score_, range=(0, 1), bins=bins ,label=method,\n",
    "             histtype=\"step\", lw=2)\n",
    "plt.xlabel(\"Predicted Probability\")\n",
    "plt.ylabel(\"Count\")\n",
    "plt.savefig('reliabilityMLP_SN.png')\n",
    "plt.legend(loc='upper center', ncol=2)\n",
    "\n",
    "\n",
    "print(\"\\tAccuracy: %1.3f\"%clf.score(X_test, Y_test))\n",
    "print(\"\\tPrecision: %1.3f\" % precision_score(Y_test, pred))\n",
    "print(\"\\tRecall: %1.3f\" % recall_score(Y_test, pred))\n",
    "print(\"\\tF1: %1.3f\\n\" % f1_score(Y_test, pred))"
   ]
  },
  {
   "cell_type": "code",
   "execution_count": 24,
   "metadata": {
    "collapsed": false
   },
   "outputs": [
    {
     "name": "stderr",
     "output_type": "stream",
     "text": [
      "/home/tumisang/.local/lib/python3.5/site-packages/sklearn/neural_network/multilayer_perceptron.py:562: ConvergenceWarning: Stochastic Optimizer: Maximum iterations (200) reached and the optimization hasn't converged yet.\n",
      "  % self.max_iter, ConvergenceWarning)\n"
     ]
    }
   ],
   "source": [
    "clf = MLPClassifier(solver='sgd',alpha=1e-5,hidden_layer_sizes=(22,22),random_state=1)\n",
    "clf.fit(X_train,Y_train)\n",
    "Pred_prob_mlp=clf.predict_proba(X_test)\n",
    "X_true=scaler.inverse_transform(X_test, copy=None)"
   ]
  },
  {
   "cell_type": "code",
   "execution_count": 30,
   "metadata": {
    "collapsed": false
   },
   "outputs": [
    {
     "data": {
      "image/png": "[encoded data removed]",
      "text/plain": [
       "<Figure size 720x720 with 1 Axes>"
      ]
     },
     "metadata": {},
     "output_type": "display_data"
    }
   ],
   "source": [
    "plt.figure(figsize=(10,10))\n",
    "plt.rcParams.update({'font.size': 18})\n",
    "plt.scatter(X_true[:,0],Pred_prob_mlp[:,0])\n",
    "plt.ylabel('MLP_Prediction')\n",
    "plt.xlabel('True probabilities')\n",
    "plt.grid()\n",
    "plt.savefig('true_mlp_supernovae.png')\n",
    "plt.show()"
   ]
  },
  {
   "cell_type": "code",
   "execution_count": 26,
   "metadata": {
    "collapsed": true
   },
   "outputs": [],
   "source": [
    "from sklearn.metrics import confusion_matrix\n",
    "import itertools\n",
    "\n",
    "class_names = np.array(['class0','class1'])\n",
    "\n",
    "def plot_confusion_matrix(cm, classes,\n",
    "                          normalize=False,\n",
    "                          title='',\n",
    "                          cmap=plt.cm.Blues):\n",
    "    \"\"\"\n",
    "    This function prints and plots the confusion matrix.\n",
    "    Normalization can be applied by setting `normalize=True`.\n",
    "    \"\"\"\n",
    "    if normalize:\n",
    "        cm = cm.astype('float') / cm.sum(axis=1)[:, np.newaxis]\n",
    "        print(\"Normalized confusion matrix\")\n",
    "    else:\n",
    "        print('Confusion matrix, without normalization')\n",
    "\n",
    "    print(cm)\n",
    "\n",
    "    plt.imshow(cm, interpolation='nearest', cmap=cmap)\n",
    "    plt.title(title)\n",
    "    plt.colorbar()\n",
    "    tick_marks = np.arange(len(classes))\n",
    "    plt.xticks(tick_marks, classes, rotation=45)\n",
    "    plt.yticks(tick_marks, classes)\n",
    "\n",
    "    fmt = '.2f' if normalize else 'd'\n",
    "    thresh = cm.max() / 2.\n",
    "    for i, j in itertools.product(range(cm.shape[0]), range(cm.shape[1])):\n",
    "        plt.text(j, i, format(cm[i, j], fmt),\n",
    "                 horizontalalignment=\"center\",\n",
    "                 color=\"white\" if cm[i, j] > thresh else \"black\")\n",
    "\n",
    " \n",
    "    plt.tight_layout()"
   ]
  },
  {
   "cell_type": "code",
   "execution_count": 27,
   "metadata": {
    "collapsed": false
   },
   "outputs": [
    {
     "name": "stdout",
     "output_type": "stream",
     "text": [
      "Normalized confusion matrix\n",
      "[[0.963 0.037]\n",
      " [0.149 0.851]]\n"
     ]
    },
    {
     "data": {
      "image/png": "[encoded data removed]",
      "text/plain": [
       "<Figure size 432x288 with 2 Axes>"
      ]
     },
     "metadata": {},
     "output_type": "display_data"
    }
   ],
   "source": [
    "# Compute confusion matrix\n",
    "cnf_matrix = confusion_matrix(Y_test, pred)\n",
    "np.set_printoptions(precision=3)\n",
    "\n",
    "# Plot non-normalized confusion matrix\n",
    "#plt.figure()\n",
    "#plot_confusion_matrix(cnf_matrix, classes=class_names,\n",
    "#                      title='Confusion matrix, without normalization')\n",
    "\n",
    "# Plot normalized confusion matrix\n",
    "plt.figure()\n",
    "plot_confusion_matrix(cnf_matrix, classes=class_names, normalize=True)\n",
    "plt.savefig('confusion_mlp_supernovae.png')\n",
    "plt.show()"
   ]
  },
  {
   "cell_type": "code",
   "execution_count": null,
   "metadata": {
    "collapsed": true
   },
   "outputs": [],
   "source": []
  },
  {
   "cell_type": "code",
   "execution_count": 1,
   "metadata": {
    "collapsed": true
   },
   "outputs": [],
   "source": [
    "qwe=0"
   ]
  },
  {
   "cell_type": "code",
   "execution_count": null,
   "metadata": {
    "collapsed": true
   },
   "outputs": [],
   "source": []
  }
 ],
 "metadata": {
  "kernelspec": {
   "display_name": "Python 3",
   "language": "python",
   "name": "python3"
  },
  "language_info": {
   "codemirror_mode": {
    "name": "ipython",
    "version": 3
   },
   "file_extension": ".py",
   "mimetype": "text/x-python",
   "name": "python",
   "nbconvert_exporter": "python",
   "pygments_lexer": "ipython3",
   "version": "3.5.3"
  }
 },
 "nbformat": 4,
 "nbformat_minor": 2
}
